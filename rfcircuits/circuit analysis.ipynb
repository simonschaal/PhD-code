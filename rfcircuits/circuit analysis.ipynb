{
 "cells": [
  {
   "cell_type": "code",
   "execution_count": null,
   "metadata": {},
   "outputs": [],
   "source": []
  },
  {
   "cell_type": "code",
   "execution_count": 1,
   "metadata": {},
   "outputs": [],
   "source": [
    "from lcapy import *\n",
    "%matplotlib inline"
   ]
  },
  {
   "cell_type": "code",
   "execution_count": 2,
   "metadata": {},
   "outputs": [],
   "source": [
    "from matplotlib import pyplot as plt\n",
    "from rfcircuit import RFCircuit"
   ]
  },
  {
   "cell_type": "markdown",
   "metadata": {},
   "source": [
    "# RF SET series\n"
   ]
  },
  {
   "cell_type": "code",
   "execution_count": 3,
   "metadata": {},
   "outputs": [],
   "source": []
  },
  {
   "cell_type": "code",
   "execution_count": 4,
   "metadata": {},
   "outputs": [],
   "source": [
    "mycirc = RFCircuit()"
   ]
  },
  {
   "cell_type": "code",
   "execution_count": 5,
   "metadata": {},
   "outputs": [],
   "source": [
    "mycirc.set_circuit(L('L') + (R('R') | C('C')))"
   ]
  },
  {
   "cell_type": "code",
   "execution_count": 6,
   "metadata": {},
   "outputs": [
    {
     "data": {
      "image/svg+xml": [
       "<svg height=\"128.381pt\" version=\"1.1\" viewBox=\"0 0 304.385 128.381\" width=\"304.385pt\" xmlns=\"http://www.w3.org/2000/svg\" xmlns:xlink=\"http://www.w3.org/1999/xlink\">\n",
       "<defs>\n",
       "<g>\n",
       "<symbol id=\"glyph0-0\" overflow=\"visible\">\n",
       "<path d=\"\" style=\"stroke:none;\"/>\n",
       "</symbol>\n",
       "<symbol id=\"glyph0-1\" overflow=\"visible\">\n",
       "<path d=\"M 7.453125 -12.046875 C 7.625 -12.765625 7.6875 -12.984375 9.5625 -12.984375 C 10.15625 -12.984375 10.3125 -12.984375 10.3125 -13.375 C 10.3125 -13.609375 10.09375 -13.609375 10 -13.609375 C 9.34375 -13.609375 7.703125 -13.546875 7.046875 -13.546875 C 6.453125 -13.546875 5 -13.609375 4.40625 -13.609375 C 4.265625 -13.609375 4.03125 -13.609375 4.03125 -13.203125 C 4.03125 -12.984375 4.203125 -12.984375 4.578125 -12.984375 C 4.625 -12.984375 5 -12.984375 5.34375 -12.953125 C 5.703125 -12.90625 5.875 -12.890625 5.875 -12.625 C 5.875 -12.546875 5.859375 -12.484375 5.796875 -12.25 L 3.125 -1.546875 C 2.921875 -0.78125 2.890625 -0.625 1.3125 -0.625 C 0.96875 -0.625 0.78125 -0.625 0.78125 -0.21875 C 0.78125 0 0.953125 0 1.3125 0 L 10.53125 0 C 11.015625 0 11.03125 0 11.15625 -0.34375 L 12.734375 -4.640625 C 12.8125 -4.859375 12.8125 -4.90625 12.8125 -4.921875 C 12.8125 -5 12.75 -5.140625 12.578125 -5.140625 C 12.390625 -5.140625 12.375 -5.046875 12.234375 -4.71875 C 11.546875 -2.890625 10.671875 -0.625 7.234375 -0.625 L 5.359375 -0.625 C 5.078125 -0.625 5.046875 -0.625 4.921875 -0.640625 C 4.71875 -0.65625 4.65625 -0.671875 4.65625 -0.84375 C 4.65625 -0.890625 4.65625 -0.9375 4.765625 -1.296875 Z M 7.453125 -12.046875 \" style=\"stroke:none;\"/>\n",
       "</symbol>\n",
       "<symbol id=\"glyph0-2\" overflow=\"visible\">\n",
       "<path d=\"M 7.46875 -12.234375 C 7.59375 -12.703125 7.65625 -12.90625 8.03125 -12.96875 C 8.203125 -12.984375 8.84375 -12.984375 9.25 -12.984375 C 10.65625 -12.984375 12.875 -12.984375 12.875 -11.015625 C 12.875 -10.34375 12.546875 -8.96875 11.78125 -8.1875 C 11.25 -7.671875 10.203125 -7.03125 8.40625 -7.03125 L 6.171875 -7.03125 Z M 10.34375 -6.765625 C 12.34375 -7.21875 14.71875 -8.609375 14.71875 -10.625 C 14.71875 -12.328125 12.921875 -13.609375 10.3125 -13.609375 L 4.640625 -13.609375 C 4.25 -13.609375 4.0625 -13.609375 4.0625 -13.203125 C 4.0625 -12.984375 4.25 -12.984375 4.625 -12.984375 C 4.65625 -12.984375 5.046875 -12.984375 5.375 -12.953125 C 5.734375 -12.90625 5.921875 -12.890625 5.921875 -12.625 C 5.921875 -12.546875 5.890625 -12.484375 5.84375 -12.25 L 3.171875 -1.546875 C 2.96875 -0.78125 2.921875 -0.625 1.359375 -0.625 C 1 -0.625 0.8125 -0.625 0.8125 -0.21875 C 0.8125 0 1.0625 0 1.09375 0 C 1.65625 0 3.046875 -0.0625 3.609375 -0.0625 C 4.15625 -0.0625 5.578125 0 6.140625 0 C 6.296875 0 6.53125 0 6.53125 -0.390625 C 6.53125 -0.625 6.359375 -0.625 5.96875 -0.625 C 5.234375 -0.625 4.6875 -0.625 4.6875 -0.96875 C 4.6875 -1.09375 4.71875 -1.1875 4.734375 -1.3125 L 6.0625 -6.59375 L 8.421875 -6.59375 C 10.234375 -6.59375 10.59375 -5.484375 10.59375 -4.78125 C 10.59375 -4.484375 10.4375 -3.859375 10.3125 -3.40625 C 10.1875 -2.84375 10 -2.109375 10 -1.71875 C 10 0.4375 12.390625 0.4375 12.65625 0.4375 C 14.34375 0.4375 15.046875 -1.578125 15.046875 -1.859375 C 15.046875 -2.09375 14.828125 -2.09375 14.796875 -2.09375 C 14.625 -2.09375 14.578125 -1.953125 14.546875 -1.8125 C 14.046875 -0.34375 13.1875 0 12.734375 0 C 12.078125 0 11.9375 -0.4375 11.9375 -1.21875 C 11.9375 -1.828125 12.046875 -2.84375 12.125 -3.484375 C 12.171875 -3.765625 12.21875 -4.140625 12.21875 -4.421875 C 12.21875 -5.953125 10.875 -6.578125 10.34375 -6.765625 Z M 10.34375 -6.765625 \" style=\"stroke:none;\"/>\n",
       "</symbol>\n",
       "<symbol id=\"glyph0-3\" overflow=\"visible\">\n",
       "<path d=\"M 15.140625 -13.84375 C 15.140625 -13.90625 15.09375 -14.046875 14.921875 -14.046875 C 14.859375 -14.046875 14.84375 -14.03125 14.625 -13.8125 L 13.234375 -12.265625 C 13.046875 -12.546875 12.125 -14.046875 9.921875 -14.046875 C 5.484375 -14.046875 1 -9.640625 1 -5.015625 C 1 -1.734375 3.34375 0.4375 6.390625 0.4375 C 8.125 0.4375 9.640625 -0.359375 10.703125 -1.28125 C 12.546875 -2.90625 12.890625 -4.71875 12.890625 -4.78125 C 12.890625 -4.984375 12.6875 -4.984375 12.65625 -4.984375 C 12.53125 -4.984375 12.4375 -4.9375 12.390625 -4.78125 C 12.21875 -4.203125 11.75 -2.78125 10.375 -1.640625 C 9 -0.515625 7.75 -0.171875 6.71875 -0.171875 C 4.921875 -0.171875 2.8125 -1.21875 2.8125 -4.328125 C 2.8125 -5.453125 3.234375 -8.6875 5.21875 -11.015625 C 6.4375 -12.4375 8.3125 -13.421875 10.078125 -13.421875 C 12.109375 -13.421875 13.28125 -11.890625 13.28125 -9.578125 C 13.28125 -8.78125 13.234375 -8.765625 13.234375 -8.5625 C 13.234375 -8.359375 13.453125 -8.359375 13.53125 -8.359375 C 13.78125 -8.359375 13.78125 -8.40625 13.890625 -8.765625 Z M 15.140625 -13.84375 \" style=\"stroke:none;\"/>\n",
       "</symbol>\n",
       "</g>\n",
       "<clipPath id=\"clip1\">\n",
       "  <path d=\"M 297 41 L 304.386719 41 L 304.386719 48 L 297 48 Z M 297 41 \"/>\n",
       "</clipPath>\n",
       "<clipPath id=\"clip2\">\n",
       "  <path d=\"M 292 35 L 304.386719 35 L 304.386719 54 L 292 54 Z M 292 35 \"/>\n",
       "</clipPath>\n",
       "</defs>\n",
       "<g id=\"surface1\">\n",
       "<path d=\"M -0.00190625 34.016813 L 0.400438 34.016813 M -0.00190625 34.016813 L 22.111375 34.016813 M 62.931688 34.016813 L 85.041062 34.016813 M 84.642625 34.016813 L 85.041062 34.016813 \" style=\"fill:none;stroke-width:0.3985;stroke-linecap:butt;stroke-linejoin:miter;stroke:rgb(0%,0%,0%);stroke-opacity:1;stroke-miterlimit:10;\" transform=\"matrix(1,0,0,-1,3.373,78.634)\"/>\n",
       "<path d=\"M 21.712937 33.856656 C 21.712937 39.493375 24.490281 44.063688 27.916062 44.063688 C 31.341844 44.063688 34.115281 39.493375 34.115281 33.856656 C 34.115281 31.04025 32.974656 28.755094 31.5645 28.755094 C 30.15825 28.755094 29.013719 31.04025 29.013719 33.856656 C 29.013719 39.493375 31.791062 44.063688 35.216844 44.063688 C 38.642625 44.063688 41.419969 39.493375 41.419969 33.856656 C 41.419969 31.04025 40.279344 28.755094 38.869188 28.755094 C 37.459031 28.755094 36.318406 31.04025 36.318406 33.856656 C 36.318406 39.493375 39.09575 44.063688 42.521531 44.063688 C 45.947313 44.063688 48.724656 39.493375 48.724656 33.856656 C 48.724656 31.04025 47.580125 28.755094 46.169969 28.755094 C 44.763719 28.755094 43.619188 31.04025 43.619188 33.856656 C 43.619188 39.493375 46.396531 44.063688 49.822313 44.063688 C 53.248094 44.063688 56.025438 39.493375 56.025438 33.856656 C 56.025438 31.04025 54.884813 28.755094 53.474656 28.755094 C 52.0645 28.755094 50.923875 31.04025 50.923875 33.856656 C 50.923875 39.493375 53.701219 44.063688 57.127 44.063688 C 60.552781 44.063688 63.330125 39.493375 63.330125 33.856656 \" style=\"fill:none;stroke-width:0.797;stroke-linecap:butt;stroke-linejoin:bevel;stroke:rgb(0%,0%,0%);stroke-opacity:1;stroke-miterlimit:10;\" transform=\"matrix(1,0,0,-1,3.373,78.634)\"/>\n",
       "<path d=\"M 3.173875 34.016813 C 3.173875 35.770719 1.752 37.192594 -0.00190625 37.192594 C -1.751906 37.192594 -3.173781 35.770719 -3.173781 34.016813 C -3.173781 32.262906 -1.751906 30.841031 -0.00190625 30.841031 C 1.752 30.841031 3.173875 32.262906 3.173875 34.016813 Z M 3.173875 34.016813 \" style=\"fill-rule:nonzero;fill:rgb(100%,100%,100%);fill-opacity:1;stroke-width:0.3985;stroke-linecap:butt;stroke-linejoin:miter;stroke:rgb(0%,0%,0%);stroke-opacity:1;stroke-miterlimit:10;\" transform=\"matrix(1,0,0,-1,3.373,78.634)\"/>\n",
       "<g style=\"fill:rgb(0%,0%,0%);fill-opacity:1;\">\n",
       "  <use x=\"39.113\" xlink:href=\"#glyph0-1\" y=\"70.886\"/>\n",
       "</g>\n",
       "<path d=\"M 85.041062 34.016813 L 127.560594 34.016813 \" style=\"fill:none;stroke-width:0.3985;stroke-linecap:butt;stroke-linejoin:miter;stroke:rgb(0%,0%,0%);stroke-opacity:1;stroke-miterlimit:10;\" transform=\"matrix(1,0,0,-1,3.373,78.634)\"/>\n",
       "<path d=\"M 127.560594 34.016813 L 170.080125 34.016813 \" style=\"fill:none;stroke-width:0.3985;stroke-linecap:butt;stroke-linejoin:miter;stroke:rgb(0%,0%,0%);stroke-opacity:1;stroke-miterlimit:10;\" transform=\"matrix(1,0,0,-1,3.373,78.634)\"/>\n",
       "<path d=\"M 173.255906 34.016813 C 173.255906 35.770719 171.834031 37.192594 170.080125 37.192594 C 168.326219 37.192594 166.90825 35.770719 166.90825 34.016813 C 166.90825 32.262906 168.326219 30.841031 170.080125 30.841031 C 171.834031 30.841031 173.255906 32.262906 173.255906 34.016813 Z M 173.255906 34.016813 \" style=\"fill-rule:nonzero;fill:rgb(0%,0%,0%);fill-opacity:1;stroke-width:0.3985;stroke-linecap:butt;stroke-linejoin:miter;stroke:rgb(0%,0%,0%);stroke-opacity:1;stroke-miterlimit:10;\" transform=\"matrix(1,0,0,-1,3.373,78.634)\"/>\n",
       "<path d=\"M 170.080125 34.016813 L 170.080125 68.032438 \" style=\"fill:none;stroke-width:0.3985;stroke-linecap:butt;stroke-linejoin:miter;stroke:rgb(0%,0%,0%);stroke-opacity:1;stroke-miterlimit:10;\" transform=\"matrix(1,0,0,-1,3.373,78.634)\"/>\n",
       "<path d=\"M 173.255906 34.016813 C 173.255906 35.770719 171.834031 37.192594 170.080125 37.192594 C 168.326219 37.192594 166.90825 35.770719 166.90825 34.016813 C 166.90825 32.262906 168.326219 30.841031 170.080125 30.841031 C 171.834031 30.841031 173.255906 32.262906 173.255906 34.016813 Z M 173.255906 34.016813 \" style=\"fill-rule:nonzero;fill:rgb(0%,0%,0%);fill-opacity:1;stroke-width:0.3985;stroke-linecap:butt;stroke-linejoin:miter;stroke:rgb(0%,0%,0%);stroke-opacity:1;stroke-miterlimit:10;\" transform=\"matrix(1,0,0,-1,3.373,78.634)\"/>\n",
       "<path d=\"M 255.123094 34.016813 L 255.123094 68.032438 \" style=\"fill:none;stroke-width:0.3985;stroke-linecap:butt;stroke-linejoin:miter;stroke:rgb(0%,0%,0%);stroke-opacity:1;stroke-miterlimit:10;\" transform=\"matrix(1,0,0,-1,3.373,78.634)\"/>\n",
       "<path d=\"M 258.294969 34.016813 C 258.294969 35.770719 256.873094 37.192594 255.123094 37.192594 C 253.369188 37.192594 251.947313 35.770719 251.947313 34.016813 C 251.947313 32.262906 253.369188 30.841031 255.123094 30.841031 C 256.873094 30.841031 258.294969 32.262906 258.294969 34.016813 Z M 258.294969 34.016813 \" style=\"fill-rule:nonzero;fill:rgb(0%,0%,0%);fill-opacity:1;stroke-width:0.3985;stroke-linecap:butt;stroke-linejoin:miter;stroke:rgb(0%,0%,0%);stroke-opacity:1;stroke-miterlimit:10;\" transform=\"matrix(1,0,0,-1,3.373,78.634)\"/>\n",
       "<path d=\"M 170.080125 68.032438 L 170.478563 68.032438 M 170.080125 68.032438 L 185.388719 68.032438 M 239.8145 68.032438 L 255.123094 68.032438 M 254.724656 68.032438 L 255.123094 68.032438 \" style=\"fill:none;stroke-width:0.3985;stroke-linecap:butt;stroke-linejoin:miter;stroke:rgb(0%,0%,0%);stroke-opacity:1;stroke-miterlimit:10;\" transform=\"matrix(1,0,0,-1,3.373,78.634)\"/>\n",
       "<path d=\"M 184.990281 68.032438 L 189.955125 78.235563 L 199.09575 57.825406 L 208.232469 78.235563 L 217.369188 57.825406 L 226.505906 78.235563 L 235.642625 57.825406 L 240.212938 68.032438 \" style=\"fill:none;stroke-width:0.797;stroke-linecap:butt;stroke-linejoin:bevel;stroke:rgb(0%,0%,0%);stroke-opacity:1;stroke-miterlimit:10;\" transform=\"matrix(1,0,0,-1,3.373,78.634)\"/>\n",
       "<g style=\"fill:rgb(0%,0%,0%);fill-opacity:1;\">\n",
       "  <use x=\"208.33\" xlink:href=\"#glyph0-2\" y=\"42.483\"/>\n",
       "</g>\n",
       "<path d=\"M 170.080125 34.016813 L 170.080125 0.0011875 \" style=\"fill:none;stroke-width:0.3985;stroke-linecap:butt;stroke-linejoin:miter;stroke:rgb(0%,0%,0%);stroke-opacity:1;stroke-miterlimit:10;\" transform=\"matrix(1,0,0,-1,3.373,78.634)\"/>\n",
       "<path d=\"M 173.255906 34.016813 C 173.255906 35.770719 171.834031 37.192594 170.080125 37.192594 C 168.326219 37.192594 166.90825 35.770719 166.90825 34.016813 C 166.90825 32.262906 168.326219 30.841031 170.080125 30.841031 C 171.834031 30.841031 173.255906 32.262906 173.255906 34.016813 Z M 173.255906 34.016813 \" style=\"fill-rule:nonzero;fill:rgb(0%,0%,0%);fill-opacity:1;stroke-width:0.3985;stroke-linecap:butt;stroke-linejoin:miter;stroke:rgb(0%,0%,0%);stroke-opacity:1;stroke-miterlimit:10;\" transform=\"matrix(1,0,0,-1,3.373,78.634)\"/>\n",
       "<path d=\"M 255.123094 34.016813 L 255.123094 0.0011875 \" style=\"fill:none;stroke-width:0.3985;stroke-linecap:butt;stroke-linejoin:miter;stroke:rgb(0%,0%,0%);stroke-opacity:1;stroke-miterlimit:10;\" transform=\"matrix(1,0,0,-1,3.373,78.634)\"/>\n",
       "<path d=\"M 258.294969 34.016813 C 258.294969 35.770719 256.873094 37.192594 255.123094 37.192594 C 253.369188 37.192594 251.947313 35.770719 251.947313 34.016813 C 251.947313 32.262906 253.369188 30.841031 255.123094 30.841031 C 256.873094 30.841031 258.294969 32.262906 258.294969 34.016813 Z M 258.294969 34.016813 \" style=\"fill-rule:nonzero;fill:rgb(0%,0%,0%);fill-opacity:1;stroke-width:0.3985;stroke-linecap:butt;stroke-linejoin:miter;stroke:rgb(0%,0%,0%);stroke-opacity:1;stroke-miterlimit:10;\" transform=\"matrix(1,0,0,-1,3.373,78.634)\"/>\n",
       "<path d=\"M 170.080125 0.0011875 L 170.478563 0.0011875 M 170.080125 0.0011875 L 205.798875 0.0011875 M 219.404344 0.0011875 L 255.123094 0.0011875 M 254.724656 0.0011875 L 255.123094 0.0011875 \" style=\"fill:none;stroke-width:0.3985;stroke-linecap:butt;stroke-linejoin:miter;stroke:rgb(0%,0%,0%);stroke-opacity:1;stroke-miterlimit:10;\" transform=\"matrix(1,0,0,-1,3.373,78.634)\"/>\n",
       "<path d=\"M 205.798875 20.411344 L 205.798875 -20.408969 M 219.404344 20.411344 L 219.404344 -20.408969 \" style=\"fill:none;stroke-width:0.797;stroke-linecap:butt;stroke-linejoin:miter;stroke:rgb(0%,0%,0%);stroke-opacity:1;stroke-miterlimit:10;\" transform=\"matrix(1,0,0,-1,3.373,78.634)\"/>\n",
       "<g style=\"fill:rgb(0%,0%,0%);fill-opacity:1;\">\n",
       "  <use x=\"208.139\" xlink:href=\"#glyph0-3\" y=\"121.74\"/>\n",
       "</g>\n",
       "<path d=\"M 255.123094 34.016813 L 297.642625 34.016813 \" style=\"fill:none;stroke-width:0.3985;stroke-linecap:butt;stroke-linejoin:miter;stroke:rgb(0%,0%,0%);stroke-opacity:1;stroke-miterlimit:10;\" transform=\"matrix(1,0,0,-1,3.373,78.634)\"/>\n",
       "<path d=\"M 258.294969 34.016813 C 258.294969 35.770719 256.873094 37.192594 255.123094 37.192594 C 253.369188 37.192594 251.947313 35.770719 251.947313 34.016813 C 251.947313 32.262906 253.369188 30.841031 255.123094 30.841031 C 256.873094 30.841031 258.294969 32.262906 258.294969 34.016813 Z M 258.294969 34.016813 \" style=\"fill-rule:nonzero;fill:rgb(0%,0%,0%);fill-opacity:1;stroke-width:0.3985;stroke-linecap:butt;stroke-linejoin:miter;stroke:rgb(0%,0%,0%);stroke-opacity:1;stroke-miterlimit:10;\" transform=\"matrix(1,0,0,-1,3.373,78.634)\"/>\n",
       "<g clip-path=\"url(#clip1)\" clip-rule=\"nonzero\">\n",
       "<path d=\"M 304.1875 44.617188 C 304.1875 42.863281 302.769531 41.441406 301.015625 41.441406 C 299.261719 41.441406 297.839844 42.863281 297.839844 44.617188 C 297.839844 46.371094 299.261719 47.792969 301.015625 47.792969 C 302.769531 47.792969 304.1875 46.371094 304.1875 44.617188 Z M 304.1875 44.617188 \" style=\" stroke:none;fill-rule:nonzero;fill:rgb(100%,100%,100%);fill-opacity:1;\"/>\n",
       "</g>\n",
       "<g clip-path=\"url(#clip2)\" clip-rule=\"nonzero\">\n",
       "<path d=\"M 300.8145 34.016813 C 300.8145 35.770719 299.396531 37.192594 297.642625 37.192594 C 295.888719 37.192594 294.466844 35.770719 294.466844 34.016813 C 294.466844 32.262906 295.888719 30.841031 297.642625 30.841031 C 299.396531 30.841031 300.8145 32.262906 300.8145 34.016813 Z M 300.8145 34.016813 \" style=\"fill:none;stroke-width:0.3985;stroke-linecap:butt;stroke-linejoin:miter;stroke:rgb(0%,0%,0%);stroke-opacity:1;stroke-miterlimit:10;\" transform=\"matrix(1,0,0,-1,3.373,78.634)\"/>\n",
       "</g>\n",
       "</g>\n",
       "</svg>"
      ]
     },
     "metadata": {},
     "output_type": "display_data"
    }
   ],
   "source": [
    "mycirc.draw_circuit()"
   ]
  },
  {
   "cell_type": "code",
   "execution_count": 7,
   "metadata": {},
   "outputs": [
    {
     "data": {
      "text/plain": [
       "{'L': L, 'w': w, 'R': R, 'C': C}"
      ]
     },
     "execution_count": 7,
     "metadata": {},
     "output_type": "execute_result"
    }
   ],
   "source": [
    "mycirc.args"
   ]
  },
  {
   "cell_type": "code",
   "execution_count": 8,
   "metadata": {},
   "outputs": [
    {
     "data": {
      "image/png": "[encoded data removed]",
      "text/latex": [
       "$$\\frac{- C L R w^{2} + i L w + R}{i C R w + 1}$$"
      ],
      "text/plain": [
       "         2            \n",
       "- C⋅L⋅R⋅w  + ⅉ⋅L⋅w + R\n",
       "──────────────────────\n",
       "     ⅉ⋅C⋅R⋅w + 1      "
      ]
     },
     "execution_count": 8,
     "metadata": {},
     "output_type": "execute_result"
    }
   ],
   "source": [
    "mycirc.Z"
   ]
  },
  {
   "cell_type": "code",
   "execution_count": 9,
   "metadata": {},
   "outputs": [
    {
     "data": {
      "image/png": "[encoded data removed]",
      "text/latex": [
       "$$\\frac{-50 + \\frac{- C L R w^{2} + i L w + R}{i C R w + 1}}{50 + \\frac{- C L R w^{2} + i L w + R}{i C R w + 1}}$$"
      ],
      "text/plain": [
       "               2            \n",
       "      - C⋅L⋅R⋅w  + ⅉ⋅L⋅w + R\n",
       "-50 + ──────────────────────\n",
       "           ⅉ⋅C⋅R⋅w + 1      \n",
       "────────────────────────────\n",
       "              2             \n",
       "     - C⋅L⋅R⋅w  + ⅉ⋅L⋅w + R \n",
       "50 + ────────────────────── \n",
       "          ⅉ⋅C⋅R⋅w + 1       "
      ]
     },
     "execution_count": 9,
     "metadata": {},
     "output_type": "execute_result"
    }
   ],
   "source": [
    "mycirc.Gamma"
   ]
  },
  {
   "cell_type": "code",
   "execution_count": 10,
   "metadata": {},
   "outputs": [
    {
     "data": {
      "image/png": "[encoded data removed]",
      "text/latex": [
       "$$\\left [ 0, \\quad - \\frac{\\sqrt{C R^{2} - L}}{C \\sqrt{L} R}, \\quad \\frac{\\sqrt{C R^{2} - L}}{C \\sqrt{L} R}\\right ]$$"
      ],
      "text/plain": [
       "⎡       __________      __________⎤\n",
       "⎢      ╱    2          ╱    2     ⎥\n",
       "⎢   -╲╱  C⋅R  - L    ╲╱  C⋅R  - L ⎥\n",
       "⎢0, ───────────────, ─────────────⎥\n",
       "⎣        C⋅√L⋅R          C⋅√L⋅R   ⎦"
      ]
     },
     "execution_count": 10,
     "metadata": {},
     "output_type": "execute_result"
    }
   ],
   "source": [
    "mycirc.wres"
   ]
  },
  {
   "cell_type": "code",
   "execution_count": 11,
   "metadata": {},
   "outputs": [
    {
     "data": {
      "text/plain": [
       "<function _lambdifygenerated(L, C, R)>"
      ]
     },
     "execution_count": 11,
     "metadata": {},
     "output_type": "execute_result"
    }
   ],
   "source": [
    "mycirc.get_Reff(mycirc.wres[2])"
   ]
  },
  {
   "cell_type": "code",
   "execution_count": 12,
   "metadata": {},
   "outputs": [
    {
     "data": {
      "image/png": "[encoded data removed]",
      "text/latex": [
       "$$\\frac{L}{C R}$$"
      ],
      "text/plain": [
       " L \n",
       "───\n",
       "C⋅R"
      ]
     },
     "execution_count": 12,
     "metadata": {},
     "output_type": "execute_result"
    }
   ],
   "source": [
    "mycirc.Reff"
   ]
  },
  {
   "cell_type": "code",
   "execution_count": null,
   "metadata": {},
   "outputs": [],
   "source": []
  },
  {
   "cell_type": "code",
   "execution_count": 21,
   "metadata": {},
   "outputs": [],
   "source": [
    "args={mycirc.args['C']:0.53e-12, mycirc.args['L']:390e-9}"
   ]
  },
  {
   "cell_type": "code",
   "execution_count": 22,
   "metadata": {
    "collapsed": true
   },
   "outputs": [],
   "source": [
    "G=mycirc.get_Gamma(args)"
   ]
  },
  {
   "cell_type": "code",
   "execution_count": 23,
   "metadata": {},
   "outputs": [
    {
     "data": {
      "text/plain": [
       "<function _lambdifygenerated(w, R)>"
      ]
     },
     "execution_count": 23,
     "metadata": {},
     "output_type": "execute_result"
    }
   ],
   "source": [
    "G"
   ]
  },
  {
   "cell_type": "code",
   "execution_count": 24,
   "metadata": {},
   "outputs": [],
   "source": [
    "r=np.array([14.7e3, 100e3, 3e3])"
   ]
  },
  {
   "cell_type": "code",
   "execution_count": 25,
   "metadata": {
    "collapsed": true
   },
   "outputs": [],
   "source": [
    "f=np.linspace(250e6,450e6,1000)"
   ]
  },
  {
   "cell_type": "code",
   "execution_count": 28,
   "metadata": {},
   "outputs": [],
   "source": [
    "data=G(2*np.pi*f[:,np.newaxis], r)"
   ]
  },
  {
   "cell_type": "code",
   "execution_count": 29,
   "metadata": {},
   "outputs": [
    {
     "data": {
      "text/plain": [
       "Text(0, 0.5, '$\\\\phi$ (rad)')"
      ]
     },
     "execution_count": 29,
     "metadata": {},
     "output_type": "execute_result"
    },
    {
     "data": {
      "image/png": "[encoded data removed]",
      "text/plain": [
       "<Figure size 432x288 with 2 Axes>"
      ]
     },
     "metadata": {
      "needs_background": "light"
     },
     "output_type": "display_data"
    }
   ],
   "source": [
    "fig, ax = plt.subplots()\n",
    "ax.plot(f*1e-6, np.absolute(data))\n",
    "axx=ax.twinx()\n",
    "axx.plot(f*1e-6, np.angle(data))\n",
    "ax.set_xlabel('$f$ (MHz)')\n",
    "ax.set_ylabel('$\\Gamma$')\n",
    "axx.set_ylabel('$\\phi$ (rad)')"
   ]
  },
  {
   "cell_type": "code",
   "execution_count": null,
   "metadata": {},
   "outputs": [],
   "source": []
  },
  {
   "cell_type": "code",
   "execution_count": null,
   "metadata": {},
   "outputs": [],
   "source": []
  },
  {
   "cell_type": "code",
   "execution_count": null,
   "metadata": {},
   "outputs": [],
   "source": []
  },
  {
   "cell_type": "code",
   "execution_count": null,
   "metadata": {},
   "outputs": [],
   "source": []
  },
  {
   "cell_type": "markdown",
   "metadata": {},
   "source": [
    "# reflectometry parallel\n"
   ]
  },
  {
   "cell_type": "code",
   "execution_count": 3,
   "metadata": {},
   "outputs": [],
   "source": [
    "mycirc = RFCircuit()"
   ]
  },
  {
   "cell_type": "code",
   "execution_count": 4,
   "metadata": {},
   "outputs": [],
   "source": [
    "mycirc.set_circuit(C('Cc') + ( R('Rd') | C('C0') | L('L')))"
   ]
  },
  {
   "cell_type": "code",
   "execution_count": 5,
   "metadata": {},
   "outputs": [
    {
     "data": {
      "image/svg+xml": [
       "<svg height=\"179.574pt\" version=\"1.1\" viewBox=\"0 0 389.424 179.574\" width=\"389.424pt\" xmlns=\"http://www.w3.org/2000/svg\" xmlns:xlink=\"http://www.w3.org/1999/xlink\">\n",
       "<defs>\n",
       "<g>\n",
       "<symbol id=\"glyph0-0\" overflow=\"visible\">\n",
       "<path d=\"\" style=\"stroke:none;\"/>\n",
       "</symbol>\n",
       "<symbol id=\"glyph0-1\" overflow=\"visible\">\n",
       "<path d=\"M 15.140625 -13.84375 C 15.140625 -13.90625 15.09375 -14.046875 14.921875 -14.046875 C 14.859375 -14.046875 14.84375 -14.03125 14.625 -13.8125 L 13.234375 -12.265625 C 13.046875 -12.546875 12.125 -14.046875 9.921875 -14.046875 C 5.484375 -14.046875 1 -9.640625 1 -5.015625 C 1 -1.734375 3.34375 0.4375 6.390625 0.4375 C 8.125 0.4375 9.640625 -0.359375 10.703125 -1.28125 C 12.546875 -2.90625 12.890625 -4.71875 12.890625 -4.78125 C 12.890625 -4.984375 12.6875 -4.984375 12.65625 -4.984375 C 12.53125 -4.984375 12.4375 -4.9375 12.390625 -4.78125 C 12.21875 -4.203125 11.75 -2.78125 10.375 -1.640625 C 9 -0.515625 7.75 -0.171875 6.71875 -0.171875 C 4.921875 -0.171875 2.8125 -1.21875 2.8125 -4.328125 C 2.8125 -5.453125 3.234375 -8.6875 5.21875 -11.015625 C 6.4375 -12.4375 8.3125 -13.421875 10.078125 -13.421875 C 12.109375 -13.421875 13.28125 -11.890625 13.28125 -9.578125 C 13.28125 -8.78125 13.234375 -8.765625 13.234375 -8.5625 C 13.234375 -8.359375 13.453125 -8.359375 13.53125 -8.359375 C 13.78125 -8.359375 13.78125 -8.40625 13.890625 -8.765625 Z M 15.140625 -13.84375 \" style=\"stroke:none;\"/>\n",
       "</symbol>\n",
       "<symbol id=\"glyph0-2\" overflow=\"visible\">\n",
       "<path d=\"M 7.46875 -12.234375 C 7.59375 -12.703125 7.65625 -12.90625 8.03125 -12.96875 C 8.203125 -12.984375 8.84375 -12.984375 9.25 -12.984375 C 10.65625 -12.984375 12.875 -12.984375 12.875 -11.015625 C 12.875 -10.34375 12.546875 -8.96875 11.78125 -8.1875 C 11.25 -7.671875 10.203125 -7.03125 8.40625 -7.03125 L 6.171875 -7.03125 Z M 10.34375 -6.765625 C 12.34375 -7.21875 14.71875 -8.609375 14.71875 -10.625 C 14.71875 -12.328125 12.921875 -13.609375 10.3125 -13.609375 L 4.640625 -13.609375 C 4.25 -13.609375 4.0625 -13.609375 4.0625 -13.203125 C 4.0625 -12.984375 4.25 -12.984375 4.625 -12.984375 C 4.65625 -12.984375 5.046875 -12.984375 5.375 -12.953125 C 5.734375 -12.90625 5.921875 -12.890625 5.921875 -12.625 C 5.921875 -12.546875 5.890625 -12.484375 5.84375 -12.25 L 3.171875 -1.546875 C 2.96875 -0.78125 2.921875 -0.625 1.359375 -0.625 C 1 -0.625 0.8125 -0.625 0.8125 -0.21875 C 0.8125 0 1.0625 0 1.09375 0 C 1.65625 0 3.046875 -0.0625 3.609375 -0.0625 C 4.15625 -0.0625 5.578125 0 6.140625 0 C 6.296875 0 6.53125 0 6.53125 -0.390625 C 6.53125 -0.625 6.359375 -0.625 5.96875 -0.625 C 5.234375 -0.625 4.6875 -0.625 4.6875 -0.96875 C 4.6875 -1.09375 4.71875 -1.1875 4.734375 -1.3125 L 6.0625 -6.59375 L 8.421875 -6.59375 C 10.234375 -6.59375 10.59375 -5.484375 10.59375 -4.78125 C 10.59375 -4.484375 10.4375 -3.859375 10.3125 -3.40625 C 10.1875 -2.84375 10 -2.109375 10 -1.71875 C 10 0.4375 12.390625 0.4375 12.65625 0.4375 C 14.34375 0.4375 15.046875 -1.578125 15.046875 -1.859375 C 15.046875 -2.09375 14.828125 -2.09375 14.796875 -2.09375 C 14.625 -2.09375 14.578125 -1.953125 14.546875 -1.8125 C 14.046875 -0.34375 13.1875 0 12.734375 0 C 12.078125 0 11.9375 -0.4375 11.9375 -1.21875 C 11.9375 -1.828125 12.046875 -2.84375 12.125 -3.484375 C 12.171875 -3.765625 12.21875 -4.140625 12.21875 -4.421875 C 12.21875 -5.953125 10.875 -6.578125 10.34375 -6.765625 Z M 10.34375 -6.765625 \" style=\"stroke:none;\"/>\n",
       "</symbol>\n",
       "<symbol id=\"glyph0-3\" overflow=\"visible\">\n",
       "<path d=\"M 7.453125 -12.046875 C 7.625 -12.765625 7.6875 -12.984375 9.5625 -12.984375 C 10.15625 -12.984375 10.3125 -12.984375 10.3125 -13.375 C 10.3125 -13.609375 10.09375 -13.609375 10 -13.609375 C 9.34375 -13.609375 7.703125 -13.546875 7.046875 -13.546875 C 6.453125 -13.546875 5 -13.609375 4.40625 -13.609375 C 4.265625 -13.609375 4.03125 -13.609375 4.03125 -13.203125 C 4.03125 -12.984375 4.203125 -12.984375 4.578125 -12.984375 C 4.625 -12.984375 5 -12.984375 5.34375 -12.953125 C 5.703125 -12.90625 5.875 -12.890625 5.875 -12.625 C 5.875 -12.546875 5.859375 -12.484375 5.796875 -12.25 L 3.125 -1.546875 C 2.921875 -0.78125 2.890625 -0.625 1.3125 -0.625 C 0.96875 -0.625 0.78125 -0.625 0.78125 -0.21875 C 0.78125 0 0.953125 0 1.3125 0 L 10.53125 0 C 11.015625 0 11.03125 0 11.15625 -0.34375 L 12.734375 -4.640625 C 12.8125 -4.859375 12.8125 -4.90625 12.8125 -4.921875 C 12.8125 -5 12.75 -5.140625 12.578125 -5.140625 C 12.390625 -5.140625 12.375 -5.046875 12.234375 -4.71875 C 11.546875 -2.890625 10.671875 -0.625 7.234375 -0.625 L 5.359375 -0.625 C 5.078125 -0.625 5.046875 -0.625 4.921875 -0.640625 C 4.71875 -0.65625 4.65625 -0.671875 4.65625 -0.84375 C 4.65625 -0.890625 4.65625 -0.9375 4.765625 -1.296875 Z M 7.453125 -12.046875 \" style=\"stroke:none;\"/>\n",
       "</symbol>\n",
       "<symbol id=\"glyph1-0\" overflow=\"visible\">\n",
       "<path d=\"\" style=\"stroke:none;\"/>\n",
       "</symbol>\n",
       "<symbol id=\"glyph1-1\" overflow=\"visible\">\n",
       "<path d=\"M 6.109375 -5.34375 C 5.609375 -5.265625 5.40625 -4.875 5.40625 -4.5625 C 5.40625 -4.1875 5.6875 -4.046875 5.9375 -4.046875 C 6.25 -4.046875 6.734375 -4.265625 6.734375 -4.9375 C 6.734375 -5.890625 5.65625 -6.15625 4.890625 -6.15625 C 2.796875 -6.15625 0.859375 -4.234375 0.859375 -2.28125 C 0.859375 -1.09375 1.703125 0.140625 3.453125 0.140625 C 5.796875 0.140625 6.90625 -1.234375 6.90625 -1.4375 C 6.90625 -1.515625 6.78125 -1.671875 6.671875 -1.671875 C 6.578125 -1.671875 6.5625 -1.640625 6.453125 -1.53125 C 5.359375 -0.25 3.71875 -0.25 3.46875 -0.25 C 2.46875 -0.25 2.015625 -0.9375 2.015625 -1.796875 C 2.015625 -2.203125 2.21875 -3.71875 2.9375 -4.6875 C 3.46875 -5.375 4.203125 -5.765625 4.890625 -5.765625 C 5.09375 -5.765625 5.765625 -5.734375 6.109375 -5.34375 Z M 6.109375 -5.34375 \" style=\"stroke:none;\"/>\n",
       "</symbol>\n",
       "<symbol id=\"glyph1-2\" overflow=\"visible\">\n",
       "<path d=\"M 7.96875 -9.265625 C 7.984375 -9.296875 8.015625 -9.46875 8.015625 -9.484375 C 8.015625 -9.5625 7.96875 -9.6875 7.796875 -9.6875 C 7.515625 -9.6875 6.359375 -9.578125 6.015625 -9.546875 C 5.90625 -9.53125 5.703125 -9.515625 5.703125 -9.21875 C 5.703125 -9.03125 5.90625 -9.03125 6.0625 -9.03125 C 6.734375 -9.03125 6.734375 -8.9375 6.734375 -8.8125 C 6.734375 -8.71875 6.71875 -8.640625 6.6875 -8.515625 L 5.890625 -5.328125 C 5.59375 -5.796875 5.125 -6.15625 4.453125 -6.15625 C 2.671875 -6.15625 0.84375 -4.1875 0.84375 -2.171875 C 0.84375 -0.828125 1.765625 0.140625 2.953125 0.140625 C 3.71875 0.140625 4.375 -0.296875 4.9375 -0.84375 C 5.203125 0 6.015625 0.140625 6.375 0.140625 C 6.875 0.140625 7.234375 -0.171875 7.484375 -0.59375 C 7.78125 -1.140625 7.96875 -1.9375 7.96875 -2 C 7.96875 -2.171875 7.78125 -2.171875 7.75 -2.171875 C 7.546875 -2.171875 7.53125 -2.125 7.4375 -1.75 C 7.265625 -1.078125 7 -0.25 6.421875 -0.25 C 6.0625 -0.25 5.953125 -0.5625 5.953125 -0.9375 C 5.953125 -1.203125 5.984375 -1.328125 6.03125 -1.5 Z M 5 -1.75 C 4.890625 -1.359375 4.59375 -1.078125 4.28125 -0.8125 C 4.15625 -0.703125 3.59375 -0.25 3 -0.25 C 2.484375 -0.25 1.984375 -0.609375 1.984375 -1.609375 C 1.984375 -2.34375 2.390625 -3.875 2.703125 -4.4375 C 3.34375 -5.546875 4.0625 -5.765625 4.453125 -5.765625 C 5.421875 -5.765625 5.6875 -4.703125 5.6875 -4.546875 C 5.6875 -4.5 5.671875 -4.390625 5.65625 -4.359375 Z M 5 -1.75 \" style=\"stroke:none;\"/>\n",
       "</symbol>\n",
       "<symbol id=\"glyph2-0\" overflow=\"visible\">\n",
       "<path d=\"\" style=\"stroke:none;\"/>\n",
       "</symbol>\n",
       "<symbol id=\"glyph2-1\" overflow=\"visible\">\n",
       "<path d=\"M 7.203125 -4.453125 C 7.203125 -5.984375 7.015625 -7.09375 6.375 -8.0625 C 5.9375 -8.703125 5.078125 -9.265625 3.96875 -9.265625 C 0.71875 -9.265625 0.71875 -5.453125 0.71875 -4.453125 C 0.71875 -3.453125 0.71875 0.28125 3.96875 0.28125 C 7.203125 0.28125 7.203125 -3.453125 7.203125 -4.453125 Z M 3.96875 -0.109375 C 3.328125 -0.109375 2.46875 -0.484375 2.1875 -1.625 C 2 -2.453125 2 -3.59375 2 -4.625 C 2 -5.65625 2 -6.71875 2.203125 -7.484375 C 2.5 -8.578125 3.390625 -8.875 3.96875 -8.875 C 4.71875 -8.875 5.4375 -8.40625 5.6875 -7.609375 C 5.921875 -6.84375 5.9375 -5.84375 5.9375 -4.625 C 5.9375 -3.59375 5.9375 -2.5625 5.75 -1.6875 C 5.46875 -0.421875 4.515625 -0.109375 3.96875 -0.109375 Z M 3.96875 -0.109375 \" style=\"stroke:none;\"/>\n",
       "</symbol>\n",
       "</g>\n",
       "<clipPath id=\"clip1\">\n",
       "  <path d=\"M 382 109 L 389.425781 109 L 389.425781 116 L 382 116 Z M 382 109 \"/>\n",
       "</clipPath>\n",
       "<clipPath id=\"clip2\">\n",
       "  <path d=\"M 377 103 L 389.425781 103 L 389.425781 122 L 377 122 Z M 377 103 \"/>\n",
       "</clipPath>\n",
       "</defs>\n",
       "<g id=\"surface1\">\n",
       "<path d=\"M -0.00190625 34.016562 L 0.400438 34.016562 M -0.00190625 34.016562 L 35.716844 34.016562 M 49.322313 34.016562 L 85.041062 34.016562 M 84.642625 34.016562 L 85.041062 34.016562 \" style=\"fill:none;stroke-width:0.3985;stroke-linecap:butt;stroke-linejoin:miter;stroke:rgb(0%,0%,0%);stroke-opacity:1;stroke-miterlimit:10;\" transform=\"matrix(1,0,0,-1,3.373,146.665)\"/>\n",
       "<path d=\"M 35.716844 54.426719 L 35.716844 13.606406 M 49.322313 54.426719 L 49.322313 13.606406 \" style=\"fill:none;stroke-width:0.797;stroke-linecap:butt;stroke-linejoin:miter;stroke:rgb(0%,0%,0%);stroke-opacity:1;stroke-miterlimit:10;\" transform=\"matrix(1,0,0,-1,3.373,146.665)\"/>\n",
       "<path d=\"M 3.173875 34.016562 C 3.173875 35.770469 1.752 37.192344 -0.00190625 37.192344 C -1.751906 37.192344 -3.173781 35.770469 -3.173781 34.016562 C -3.173781 32.262656 -1.751906 30.840781 -0.00190625 30.840781 C 1.752 30.840781 3.173875 32.262656 3.173875 34.016562 Z M 3.173875 34.016562 \" style=\"fill-rule:nonzero;fill:rgb(100%,100%,100%);fill-opacity:1;stroke-width:0.3985;stroke-linecap:butt;stroke-linejoin:miter;stroke:rgb(0%,0%,0%);stroke-opacity:1;stroke-miterlimit:10;\" transform=\"matrix(1,0,0,-1,3.373,146.665)\"/>\n",
       "<g style=\"fill:rgb(0%,0%,0%);fill-opacity:1;\">\n",
       "  <use x=\"34.714\" xlink:href=\"#glyph0-1\" y=\"155.755\"/>\n",
       "</g>\n",
       "<g style=\"fill:rgb(0%,0%,0%);fill-opacity:1;\">\n",
       "  <use x=\"48.956\" xlink:href=\"#glyph1-1\" y=\"158.743\"/>\n",
       "</g>\n",
       "<path d=\"M 85.041062 34.016562 L 127.560594 34.016562 \" style=\"fill:none;stroke-width:0.3985;stroke-linecap:butt;stroke-linejoin:miter;stroke:rgb(0%,0%,0%);stroke-opacity:1;stroke-miterlimit:10;\" transform=\"matrix(1,0,0,-1,3.373,146.665)\"/>\n",
       "<path d=\"M 127.560594 34.016562 L 170.080125 34.016562 \" style=\"fill:none;stroke-width:0.3985;stroke-linecap:butt;stroke-linejoin:miter;stroke:rgb(0%,0%,0%);stroke-opacity:1;stroke-miterlimit:10;\" transform=\"matrix(1,0,0,-1,3.373,146.665)\"/>\n",
       "<path d=\"M 173.255906 34.016562 C 173.255906 35.770469 171.834031 37.192344 170.080125 37.192344 C 168.326219 37.192344 166.90825 35.770469 166.90825 34.016562 C 166.90825 32.262656 168.326219 30.840781 170.080125 30.840781 C 171.834031 30.840781 173.255906 32.262656 173.255906 34.016562 Z M 173.255906 34.016562 \" style=\"fill-rule:nonzero;fill:rgb(0%,0%,0%);fill-opacity:1;stroke-width:0.3985;stroke-linecap:butt;stroke-linejoin:miter;stroke:rgb(0%,0%,0%);stroke-opacity:1;stroke-miterlimit:10;\" transform=\"matrix(1,0,0,-1,3.373,146.665)\"/>\n",
       "<path d=\"M 170.080125 34.016562 L 170.080125 102.047812 \" style=\"fill:none;stroke-width:0.3985;stroke-linecap:butt;stroke-linejoin:miter;stroke:rgb(0%,0%,0%);stroke-opacity:1;stroke-miterlimit:10;\" transform=\"matrix(1,0,0,-1,3.373,146.665)\"/>\n",
       "<path d=\"M 173.255906 34.016562 C 173.255906 35.770469 171.834031 37.192344 170.080125 37.192344 C 168.326219 37.192344 166.90825 35.770469 166.90825 34.016562 C 166.90825 32.262656 168.326219 30.840781 170.080125 30.840781 C 171.834031 30.840781 173.255906 32.262656 173.255906 34.016562 Z M 173.255906 34.016562 \" style=\"fill-rule:nonzero;fill:rgb(0%,0%,0%);fill-opacity:1;stroke-width:0.3985;stroke-linecap:butt;stroke-linejoin:miter;stroke:rgb(0%,0%,0%);stroke-opacity:1;stroke-miterlimit:10;\" transform=\"matrix(1,0,0,-1,3.373,146.665)\"/>\n",
       "<path d=\"M 340.162156 34.016562 L 340.162156 102.047812 \" style=\"fill:none;stroke-width:0.3985;stroke-linecap:butt;stroke-linejoin:miter;stroke:rgb(0%,0%,0%);stroke-opacity:1;stroke-miterlimit:10;\" transform=\"matrix(1,0,0,-1,3.373,146.665)\"/>\n",
       "<path d=\"M 343.337938 34.016562 C 343.337938 35.770469 341.916063 37.192344 340.162156 37.192344 C 338.40825 37.192344 336.986375 35.770469 336.986375 34.016562 C 336.986375 32.262656 338.40825 30.840781 340.162156 30.840781 C 341.916063 30.840781 343.337938 32.262656 343.337938 34.016562 Z M 343.337938 34.016562 \" style=\"fill-rule:nonzero;fill:rgb(0%,0%,0%);fill-opacity:1;stroke-width:0.3985;stroke-linecap:butt;stroke-linejoin:miter;stroke:rgb(0%,0%,0%);stroke-opacity:1;stroke-miterlimit:10;\" transform=\"matrix(1,0,0,-1,3.373,146.665)\"/>\n",
       "<path d=\"M 170.080125 102.047812 L 212.599656 102.047812 \" style=\"fill:none;stroke-width:0.3985;stroke-linecap:butt;stroke-linejoin:miter;stroke:rgb(0%,0%,0%);stroke-opacity:1;stroke-miterlimit:10;\" transform=\"matrix(1,0,0,-1,3.373,146.665)\"/>\n",
       "<path d=\"M 215.775438 102.047812 C 215.775438 103.801719 214.353563 105.223594 212.599656 105.223594 C 210.849656 105.223594 209.427781 103.801719 209.427781 102.047812 C 209.427781 100.293906 210.849656 98.875937 212.599656 98.875937 C 214.353563 98.875937 215.775438 100.293906 215.775438 102.047812 Z M 215.775438 102.047812 \" style=\"fill-rule:nonzero;fill:rgb(0%,0%,0%);fill-opacity:1;stroke-width:0.3985;stroke-linecap:butt;stroke-linejoin:miter;stroke:rgb(0%,0%,0%);stroke-opacity:1;stroke-miterlimit:10;\" transform=\"matrix(1,0,0,-1,3.373,146.665)\"/>\n",
       "<path d=\"M 212.599656 102.047812 L 212.599656 136.063437 \" style=\"fill:none;stroke-width:0.3985;stroke-linecap:butt;stroke-linejoin:miter;stroke:rgb(0%,0%,0%);stroke-opacity:1;stroke-miterlimit:10;\" transform=\"matrix(1,0,0,-1,3.373,146.665)\"/>\n",
       "<path d=\"M 215.775438 102.047812 C 215.775438 103.801719 214.353563 105.223594 212.599656 105.223594 C 210.849656 105.223594 209.427781 103.801719 209.427781 102.047812 C 209.427781 100.293906 210.849656 98.875937 212.599656 98.875937 C 214.353563 98.875937 215.775438 100.293906 215.775438 102.047812 Z M 215.775438 102.047812 \" style=\"fill-rule:nonzero;fill:rgb(0%,0%,0%);fill-opacity:1;stroke-width:0.3985;stroke-linecap:butt;stroke-linejoin:miter;stroke:rgb(0%,0%,0%);stroke-opacity:1;stroke-miterlimit:10;\" transform=\"matrix(1,0,0,-1,3.373,146.665)\"/>\n",
       "<path d=\"M 297.642625 102.047812 L 297.642625 136.063437 \" style=\"fill:none;stroke-width:0.3985;stroke-linecap:butt;stroke-linejoin:miter;stroke:rgb(0%,0%,0%);stroke-opacity:1;stroke-miterlimit:10;\" transform=\"matrix(1,0,0,-1,3.373,146.665)\"/>\n",
       "<path d=\"M 300.8145 102.047812 C 300.8145 103.801719 299.396531 105.223594 297.642625 105.223594 C 295.888719 105.223594 294.466844 103.801719 294.466844 102.047812 C 294.466844 100.293906 295.888719 98.875937 297.642625 98.875937 C 299.396531 98.875937 300.8145 100.293906 300.8145 102.047812 Z M 300.8145 102.047812 \" style=\"fill-rule:nonzero;fill:rgb(0%,0%,0%);fill-opacity:1;stroke-width:0.3985;stroke-linecap:butt;stroke-linejoin:miter;stroke:rgb(0%,0%,0%);stroke-opacity:1;stroke-miterlimit:10;\" transform=\"matrix(1,0,0,-1,3.373,146.665)\"/>\n",
       "<path d=\"M 212.599656 136.063437 L 212.998094 136.063437 M 212.599656 136.063437 L 227.90825 136.063437 M 282.334031 136.063437 L 297.642625 136.063437 M 297.244188 136.063437 L 297.642625 136.063437 \" style=\"fill:none;stroke-width:0.3985;stroke-linecap:butt;stroke-linejoin:miter;stroke:rgb(0%,0%,0%);stroke-opacity:1;stroke-miterlimit:10;\" transform=\"matrix(1,0,0,-1,3.373,146.665)\"/>\n",
       "<path d=\"M 227.509813 136.063437 L 232.478563 146.270469 L 241.615281 125.860312 L 250.752 146.270469 L 259.888719 125.860312 L 269.025438 146.270469 L 278.162156 125.860312 L 282.732469 136.063437 \" style=\"fill:none;stroke-width:0.797;stroke-linecap:butt;stroke-linejoin:bevel;stroke:rgb(0%,0%,0%);stroke-opacity:1;stroke-miterlimit:10;\" transform=\"matrix(1,0,0,-1,3.373,146.665)\"/>\n",
       "<g style=\"fill:rgb(0%,0%,0%);fill-opacity:1;\">\n",
       "  <use x=\"246.281\" xlink:href=\"#glyph0-2\" y=\"42.483\"/>\n",
       "</g>\n",
       "<g style=\"fill:rgb(0%,0%,0%);fill-opacity:1;\">\n",
       "  <use x=\"261.411\" xlink:href=\"#glyph1-2\" y=\"45.473\"/>\n",
       "</g>\n",
       "<path d=\"M 212.599656 102.047812 L 212.599656 68.032187 \" style=\"fill:none;stroke-width:0.3985;stroke-linecap:butt;stroke-linejoin:miter;stroke:rgb(0%,0%,0%);stroke-opacity:1;stroke-miterlimit:10;\" transform=\"matrix(1,0,0,-1,3.373,146.665)\"/>\n",
       "<path d=\"M 215.775438 102.047812 C 215.775438 103.801719 214.353563 105.223594 212.599656 105.223594 C 210.849656 105.223594 209.427781 103.801719 209.427781 102.047812 C 209.427781 100.293906 210.849656 98.875937 212.599656 98.875937 C 214.353563 98.875937 215.775438 100.293906 215.775438 102.047812 Z M 215.775438 102.047812 \" style=\"fill-rule:nonzero;fill:rgb(0%,0%,0%);fill-opacity:1;stroke-width:0.3985;stroke-linecap:butt;stroke-linejoin:miter;stroke:rgb(0%,0%,0%);stroke-opacity:1;stroke-miterlimit:10;\" transform=\"matrix(1,0,0,-1,3.373,146.665)\"/>\n",
       "<path d=\"M 297.642625 102.047812 L 297.642625 68.032187 \" style=\"fill:none;stroke-width:0.3985;stroke-linecap:butt;stroke-linejoin:miter;stroke:rgb(0%,0%,0%);stroke-opacity:1;stroke-miterlimit:10;\" transform=\"matrix(1,0,0,-1,3.373,146.665)\"/>\n",
       "<path d=\"M 300.8145 102.047812 C 300.8145 103.801719 299.396531 105.223594 297.642625 105.223594 C 295.888719 105.223594 294.466844 103.801719 294.466844 102.047812 C 294.466844 100.293906 295.888719 98.875937 297.642625 98.875937 C 299.396531 98.875937 300.8145 100.293906 300.8145 102.047812 Z M 300.8145 102.047812 \" style=\"fill-rule:nonzero;fill:rgb(0%,0%,0%);fill-opacity:1;stroke-width:0.3985;stroke-linecap:butt;stroke-linejoin:miter;stroke:rgb(0%,0%,0%);stroke-opacity:1;stroke-miterlimit:10;\" transform=\"matrix(1,0,0,-1,3.373,146.665)\"/>\n",
       "<path d=\"M 212.599656 68.032187 L 212.998094 68.032187 M 212.599656 68.032187 L 248.318406 68.032187 M 261.923875 68.032187 L 297.642625 68.032187 M 297.244188 68.032187 L 297.642625 68.032187 \" style=\"fill:none;stroke-width:0.3985;stroke-linecap:butt;stroke-linejoin:miter;stroke:rgb(0%,0%,0%);stroke-opacity:1;stroke-miterlimit:10;\" transform=\"matrix(1,0,0,-1,3.373,146.665)\"/>\n",
       "<path d=\"M 248.318406 88.442344 L 248.318406 47.622031 M 261.923875 88.442344 L 261.923875 47.622031 \" style=\"fill:none;stroke-width:0.797;stroke-linecap:butt;stroke-linejoin:miter;stroke:rgb(0%,0%,0%);stroke-opacity:1;stroke-miterlimit:10;\" transform=\"matrix(1,0,0,-1,3.373,146.665)\"/>\n",
       "<g style=\"fill:rgb(0%,0%,0%);fill-opacity:1;\">\n",
       "  <use x=\"246.901\" xlink:href=\"#glyph0-1\" y=\"121.74\"/>\n",
       "</g>\n",
       "<g style=\"fill:rgb(0%,0%,0%);fill-opacity:1;\">\n",
       "  <use x=\"261.143\" xlink:href=\"#glyph2-1\" y=\"124.728\"/>\n",
       "</g>\n",
       "<path d=\"M 297.642625 102.047812 L 340.162156 102.047812 \" style=\"fill:none;stroke-width:0.3985;stroke-linecap:butt;stroke-linejoin:miter;stroke:rgb(0%,0%,0%);stroke-opacity:1;stroke-miterlimit:10;\" transform=\"matrix(1,0,0,-1,3.373,146.665)\"/>\n",
       "<path d=\"M 300.8145 102.047812 C 300.8145 103.801719 299.396531 105.223594 297.642625 105.223594 C 295.888719 105.223594 294.466844 103.801719 294.466844 102.047812 C 294.466844 100.293906 295.888719 98.875937 297.642625 98.875937 C 299.396531 98.875937 300.8145 100.293906 300.8145 102.047812 Z M 300.8145 102.047812 \" style=\"fill-rule:nonzero;fill:rgb(0%,0%,0%);fill-opacity:1;stroke-width:0.3985;stroke-linecap:butt;stroke-linejoin:miter;stroke:rgb(0%,0%,0%);stroke-opacity:1;stroke-miterlimit:10;\" transform=\"matrix(1,0,0,-1,3.373,146.665)\"/>\n",
       "<path d=\"M 170.080125 34.016562 L 170.080125 0.0009375 \" style=\"fill:none;stroke-width:0.3985;stroke-linecap:butt;stroke-linejoin:miter;stroke:rgb(0%,0%,0%);stroke-opacity:1;stroke-miterlimit:10;\" transform=\"matrix(1,0,0,-1,3.373,146.665)\"/>\n",
       "<path d=\"M 173.255906 34.016562 C 173.255906 35.770469 171.834031 37.192344 170.080125 37.192344 C 168.326219 37.192344 166.90825 35.770469 166.90825 34.016562 C 166.90825 32.262656 168.326219 30.840781 170.080125 30.840781 C 171.834031 30.840781 173.255906 32.262656 173.255906 34.016562 Z M 173.255906 34.016562 \" style=\"fill-rule:nonzero;fill:rgb(0%,0%,0%);fill-opacity:1;stroke-width:0.3985;stroke-linecap:butt;stroke-linejoin:miter;stroke:rgb(0%,0%,0%);stroke-opacity:1;stroke-miterlimit:10;\" transform=\"matrix(1,0,0,-1,3.373,146.665)\"/>\n",
       "<path d=\"M 340.162156 34.016562 L 340.162156 0.0009375 \" style=\"fill:none;stroke-width:0.3985;stroke-linecap:butt;stroke-linejoin:miter;stroke:rgb(0%,0%,0%);stroke-opacity:1;stroke-miterlimit:10;\" transform=\"matrix(1,0,0,-1,3.373,146.665)\"/>\n",
       "<path d=\"M 343.337938 34.016562 C 343.337938 35.770469 341.916063 37.192344 340.162156 37.192344 C 338.40825 37.192344 336.986375 35.770469 336.986375 34.016562 C 336.986375 32.262656 338.40825 30.840781 340.162156 30.840781 C 341.916063 30.840781 343.337938 32.262656 343.337938 34.016562 Z M 343.337938 34.016562 \" style=\"fill-rule:nonzero;fill:rgb(0%,0%,0%);fill-opacity:1;stroke-width:0.3985;stroke-linecap:butt;stroke-linejoin:miter;stroke:rgb(0%,0%,0%);stroke-opacity:1;stroke-miterlimit:10;\" transform=\"matrix(1,0,0,-1,3.373,146.665)\"/>\n",
       "<path d=\"M 170.080125 0.0009375 L 170.478563 0.0009375 M 170.080125 0.0009375 L 234.712938 0.0009375 M 275.529344 0.0009375 L 340.162156 0.0009375 M 339.763719 0.0009375 L 340.162156 0.0009375 \" style=\"fill:none;stroke-width:0.3985;stroke-linecap:butt;stroke-linejoin:miter;stroke:rgb(0%,0%,0%);stroke-opacity:1;stroke-miterlimit:10;\" transform=\"matrix(1,0,0,-1,3.373,146.665)\"/>\n",
       "<path d=\"M 234.3145 -0.159219 C 234.3145 5.4775 237.087938 10.043906 240.513719 10.043906 C 243.9395 10.043906 246.716844 5.4775 246.716844 -0.159219 C 246.716844 -2.975625 245.576219 -5.260781 244.166063 -5.260781 C 242.759813 -5.260781 241.615281 -2.975625 241.615281 -0.159219 C 241.615281 5.4775 244.392625 10.043906 247.818406 10.043906 C 251.244188 10.043906 254.021531 5.4775 254.021531 -0.159219 C 254.021531 -2.975625 252.877 -5.260781 251.47075 -5.260781 C 250.060594 -5.260781 248.919969 -2.975625 248.919969 -0.159219 C 248.919969 5.4775 251.697313 10.043906 255.123094 10.043906 C 258.544969 10.043906 261.322313 5.4775 261.322313 -0.159219 C 261.322313 -2.975625 260.181688 -5.260781 258.771531 -5.260781 C 257.365281 -5.260781 256.22075 -2.975625 256.22075 -0.159219 C 256.22075 5.4775 258.998094 10.043906 262.423875 10.043906 C 265.849656 10.043906 268.627 5.4775 268.627 -0.159219 C 268.627 -2.975625 267.486375 -5.260781 266.076219 -5.260781 C 264.666063 -5.260781 263.525438 -2.975625 263.525438 -0.159219 C 263.525438 5.4775 266.302781 10.043906 269.728563 10.043906 C 273.154344 10.043906 275.927781 5.4775 275.927781 -0.159219 \" style=\"fill:none;stroke-width:0.797;stroke-linecap:butt;stroke-linejoin:bevel;stroke:rgb(0%,0%,0%);stroke-opacity:1;stroke-miterlimit:10;\" transform=\"matrix(1,0,0,-1,3.373,146.665)\"/>\n",
       "<g style=\"fill:rgb(0%,0%,0%);fill-opacity:1;\">\n",
       "  <use x=\"251.711\" xlink:href=\"#glyph0-3\" y=\"172.933\"/>\n",
       "</g>\n",
       "<path d=\"M 340.162156 34.016562 L 382.681688 34.016562 \" style=\"fill:none;stroke-width:0.3985;stroke-linecap:butt;stroke-linejoin:miter;stroke:rgb(0%,0%,0%);stroke-opacity:1;stroke-miterlimit:10;\" transform=\"matrix(1,0,0,-1,3.373,146.665)\"/>\n",
       "<path d=\"M 343.337938 34.016562 C 343.337938 35.770469 341.916063 37.192344 340.162156 37.192344 C 338.40825 37.192344 336.986375 35.770469 336.986375 34.016562 C 336.986375 32.262656 338.40825 30.840781 340.162156 30.840781 C 341.916063 30.840781 343.337938 32.262656 343.337938 34.016562 Z M 343.337938 34.016562 \" style=\"fill-rule:nonzero;fill:rgb(0%,0%,0%);fill-opacity:1;stroke-width:0.3985;stroke-linecap:butt;stroke-linejoin:miter;stroke:rgb(0%,0%,0%);stroke-opacity:1;stroke-miterlimit:10;\" transform=\"matrix(1,0,0,-1,3.373,146.665)\"/>\n",
       "<g clip-path=\"url(#clip1)\" clip-rule=\"nonzero\">\n",
       "<path d=\"M 389.230469 112.648438 C 389.230469 110.894531 387.808594 109.472656 386.054688 109.472656 C 384.300781 109.472656 382.878906 110.894531 382.878906 112.648438 C 382.878906 114.402344 384.300781 115.824219 386.054688 115.824219 C 387.808594 115.824219 389.230469 114.402344 389.230469 112.648438 Z M 389.230469 112.648438 \" style=\" stroke:none;fill-rule:nonzero;fill:rgb(100%,100%,100%);fill-opacity:1;\"/>\n",
       "</g>\n",
       "<g clip-path=\"url(#clip2)\" clip-rule=\"nonzero\">\n",
       "<path d=\"M 385.857469 34.016562 C 385.857469 35.770469 384.435594 37.192344 382.681688 37.192344 C 380.927781 37.192344 379.505906 35.770469 379.505906 34.016562 C 379.505906 32.262656 380.927781 30.840781 382.681688 30.840781 C 384.435594 30.840781 385.857469 32.262656 385.857469 34.016562 Z M 385.857469 34.016562 \" style=\"fill:none;stroke-width:0.3985;stroke-linecap:butt;stroke-linejoin:miter;stroke:rgb(0%,0%,0%);stroke-opacity:1;stroke-miterlimit:10;\" transform=\"matrix(1,0,0,-1,3.373,146.665)\"/>\n",
       "</g>\n",
       "</g>\n",
       "</svg>"
      ]
     },
     "metadata": {},
     "output_type": "display_data"
    }
   ],
   "source": [
    "mycirc.draw_circuit()"
   ]
  },
  {
   "cell_type": "code",
   "execution_count": 7,
   "metadata": {},
   "outputs": [],
   "source": [
    "mycirc.draw_circuit(filename='parallel.svg')"
   ]
  },
  {
   "cell_type": "code",
   "execution_count": 9,
   "metadata": {},
   "outputs": [
    {
     "data": {
      "text/plain": [
       "{'w': w, 'L': L, 'R_d': R_d, 'C_c': C_c, 'C_0': C_0}"
      ]
     },
     "execution_count": 9,
     "metadata": {},
     "output_type": "execute_result"
    }
   ],
   "source": [
    "mycirc.args"
   ]
  },
  {
   "cell_type": "code",
   "execution_count": 10,
   "metadata": {},
   "outputs": [
    {
     "data": {
      "image/png": "[encoded data removed]",
      "text/latex": [
       "$$\\frac{C_{0} L R_{d} w^{2} + C_{c} L R_{d} w^{2} - i L w - R_{d}}{C_{c} w \\left(i C_{0} L R_{d} w^{2} + L w - i R_{d}\\right)}$$"
      ],
      "text/plain": [
       "          2              2              \n",
       "C₀⋅L⋅R_d⋅w  + C_c⋅L⋅R_d⋅w  - ⅉ⋅L⋅w - R_d\n",
       "────────────────────────────────────────\n",
       "        ⎛            2              ⎞   \n",
       "  C_c⋅w⋅⎝ⅉ⋅C₀⋅L⋅R_d⋅w  + L⋅w - ⅉ⋅R_d⎠   "
      ]
     },
     "execution_count": 10,
     "metadata": {},
     "output_type": "execute_result"
    }
   ],
   "source": [
    "mycirc.Z"
   ]
  },
  {
   "cell_type": "code",
   "execution_count": 15,
   "metadata": {},
   "outputs": [
    {
     "data": {
      "image/png": "[encoded data removed]",
      "text/latex": [
       "$$\\frac{L^{2} R_{d} w^{2}}{L^{2} w^{2} + R_{d}^{2} \\left(C_{0} L w^{2} - 1\\right)^{2}}$$"
      ],
      "text/plain": [
       "          2      2         \n",
       "         L ⋅R_d⋅w          \n",
       "───────────────────────────\n",
       "                          2\n",
       " 2  2      2 ⎛      2    ⎞ \n",
       "L ⋅w  + R_d ⋅⎝C₀⋅L⋅w  - 1⎠ "
      ]
     },
     "execution_count": 15,
     "metadata": {},
     "output_type": "execute_result"
    }
   ],
   "source": [
    "from sympy.functions import re, im\n",
    "re(mycirc.Z).simplify()"
   ]
  },
  {
   "cell_type": "code",
   "execution_count": 16,
   "metadata": {},
   "outputs": [
    {
     "data": {
      "image/png": "[encoded data removed]",
      "text/latex": [
       "$$- \\frac{L^{2} w^{2} + R_{d}^{2} \\left(C_{0} L w^{2} - 1\\right) \\left(C_{0} L w^{2} + C_{c} L w^{2} - 1\\right)}{C_{c} w \\left(L^{2} w^{2} + R_{d}^{2} \\left(C_{0} L w^{2} - 1\\right)^{2}\\right)}$$"
      ],
      "text/plain": [
       " ⎛ 2  2      2 ⎛      2    ⎞ ⎛      2          2    ⎞⎞ \n",
       "-⎝L ⋅w  + R_d ⋅⎝C₀⋅L⋅w  - 1⎠⋅⎝C₀⋅L⋅w  + C_c⋅L⋅w  - 1⎠⎠ \n",
       "───────────────────────────────────────────────────────\n",
       "                ⎛                          2⎞          \n",
       "                ⎜ 2  2      2 ⎛      2    ⎞ ⎟          \n",
       "          C_c⋅w⋅⎝L ⋅w  + R_d ⋅⎝C₀⋅L⋅w  - 1⎠ ⎠          "
      ]
     },
     "execution_count": 16,
     "metadata": {},
     "output_type": "execute_result"
    }
   ],
   "source": [
    "im(mycirc.Z).simplify()"
   ]
  },
  {
   "cell_type": "code",
   "execution_count": 405,
   "metadata": {},
   "outputs": [
    {
     "data": {
      "image/png": "[encoded data removed]",
      "text/latex": [
       "$$\\left [ - \\sqrt{\\frac{2 C_{0} R_{d}^{2} + C_{c} R_{d}^{2} - L}{2 C_{0} L R_{d}^{2} \\left(C_{0} + C_{c}\\right)} - \\frac{\\sqrt{- 4 C_{0} L R_{d}^{2} + C_{c}^{2} R_{d}^{4} - 2 C_{c} L R_{d}^{2} + L^{2}}}{2 C_{0} L R_{d}^{2} \\left(C_{0} + C_{c}\\right)}}, \\quad \\sqrt{\\frac{2 C_{0} R_{d}^{2} + C_{c} R_{d}^{2} - L}{2 C_{0} L R_{d}^{2} \\left(C_{0} + C_{c}\\right)} - \\frac{\\sqrt{- 4 C_{0} L R_{d}^{2} + C_{c}^{2} R_{d}^{4} - 2 C_{c} L R_{d}^{2} + L^{2}}}{2 C_{0} L R_{d}^{2} \\left(C_{0} + C_{c}\\right)}}, \\quad - \\sqrt{\\frac{2 C_{0} R_{d}^{2} + C_{c} R_{d}^{2} - L}{2 C_{0} L R_{d}^{2} \\left(C_{0} + C_{c}\\right)} + \\frac{\\sqrt{- 4 C_{0} L R_{d}^{2} + C_{c}^{2} R_{d}^{4} - 2 C_{c} L R_{d}^{2} + L^{2}}}{2 C_{0} L R_{d}^{2} \\left(C_{0} + C_{c}\\right)}}, \\quad \\sqrt{\\frac{2 C_{0} R_{d}^{2} + C_{c} R_{d}^{2} - L}{2 C_{0} L R_{d}^{2} \\left(C_{0} + C_{c}\\right)} + \\frac{\\sqrt{- 4 C_{0} L R_{d}^{2} + C_{c}^{2} R_{d}^{4} - 2 C_{c} L R_{d}^{2} + L^{2}}}{2 C_{0} L R_{d}^{2} \\left(C_{0} + C_{c}\\right)}}\\right ]$$"
      ],
      "text/plain": [
       "⎡        _____________________________________________________________________\n",
       "⎢       ╱                               ______________________________________\n",
       "⎢      ╱          2          2         ╱             2      2    4            \n",
       "⎢     ╱   2⋅C₀⋅R_d  + C_c⋅R_d  - L   ╲╱  - 4⋅C₀⋅L⋅R_d  + C_c ⋅R_d  - 2⋅C_c⋅L⋅R\n",
       "⎢-   ╱    ──────────────────────── - ─────────────────────────────────────────\n",
       "⎢   ╱                2                                       2                \n",
       "⎣ ╲╱       2⋅C₀⋅L⋅R_d ⋅(C₀ + C_c)                  2⋅C₀⋅L⋅R_d ⋅(C₀ + C_c)     \n",
       "\n",
       "__________         ___________________________________________________________\n",
       "_________         ╱                               ____________________________\n",
       "  2    2         ╱          2          2         ╱             2      2    4  \n",
       "_d  + L         ╱   2⋅C₀⋅R_d  + C_c⋅R_d  - L   ╲╱  - 4⋅C₀⋅L⋅R_d  + C_c ⋅R_d  -\n",
       "───────── ,    ╱    ──────────────────────── - ───────────────────────────────\n",
       "              ╱                2                                       2      \n",
       "            ╲╱       2⋅C₀⋅L⋅R_d ⋅(C₀ + C_c)                  2⋅C₀⋅L⋅R_d ⋅(C₀ +\n",
       "\n",
       "____________________          ________________________________________________\n",
       "___________________          ╱                               _________________\n",
       "            2    2          ╱          2          2         ╱             2   \n",
       " 2⋅C_c⋅L⋅R_d  + L          ╱   2⋅C₀⋅R_d  + C_c⋅R_d  - L   ╲╱  - 4⋅C₀⋅L⋅R_d  + \n",
       "─────────────────── , -   ╱    ──────────────────────── + ────────────────────\n",
       "                         ╱                2                                   \n",
       " C_c)                  ╲╱       2⋅C₀⋅L⋅R_d ⋅(C₀ + C_c)                  2⋅C₀⋅L\n",
       "\n",
       "_______________________________         ______________________________________\n",
       "______________________________         ╱                               _______\n",
       "   2    4              2    2         ╱          2          2         ╱       \n",
       "C_c ⋅R_d  - 2⋅C_c⋅L⋅R_d  + L         ╱   2⋅C₀⋅R_d  + C_c⋅R_d  - L   ╲╱  - 4⋅C₀\n",
       "────────────────────────────── ,    ╱    ──────────────────────── + ──────────\n",
       "    2                              ╱                2                         \n",
       "⋅R_d ⋅(C₀ + C_c)                 ╲╱       2⋅C₀⋅L⋅R_d ⋅(C₀ + C_c)              \n",
       "\n",
       "_________________________________________⎤\n",
       "________________________________________ ⎥\n",
       "      2      2    4              2    2  ⎥\n",
       "⋅L⋅R_d  + C_c ⋅R_d  - 2⋅C_c⋅L⋅R_d  + L   ⎥\n",
       "──────────────────────────────────────── ⎥\n",
       "              2                          ⎥\n",
       "    2⋅C₀⋅L⋅R_d ⋅(C₀ + C_c)               ⎦"
      ]
     },
     "execution_count": 405,
     "metadata": {},
     "output_type": "execute_result"
    }
   ],
   "source": [
    "mycirc.wres"
   ]
  },
  {
   "cell_type": "code",
   "execution_count": 406,
   "metadata": {},
   "outputs": [
    {
     "data": {
      "text/plain": [
       "<function _lambdifygenerated(R_d, C_0, C_c, L)>"
      ]
     },
     "execution_count": 406,
     "metadata": {},
     "output_type": "execute_result"
    }
   ],
   "source": [
    "mycirc.get_Reff(mycirc.wres[1])"
   ]
  },
  {
   "cell_type": "code",
   "execution_count": 407,
   "metadata": {},
   "outputs": [
    {
     "data": {
      "image/png": "[encoded data removed]",
      "text/latex": [
       "$$\\frac{L R_{d} \\left(2 C_{0}^{2} R_{d}^{2} + 3 C_{0} C_{c} R_{d}^{2} - C_{0} L - C_{0} \\sqrt{- 4 C_{0} L R_{d}^{2} + C_{c}^{2} R_{d}^{4} - 2 C_{c} L R_{d}^{2} + L^{2}} + C_{c}^{2} R_{d}^{2} - C_{c} L - C_{c} \\sqrt{- 4 C_{0} L R_{d}^{2} + C_{c}^{2} R_{d}^{4} - 2 C_{c} L R_{d}^{2} + L^{2}}\\right)}{C_{c} \\left(C_{0} C_{c} R_{d}^{4} + 3 C_{0} L R_{d}^{2} + C_{0} R_{d}^{2} \\sqrt{- 4 C_{0} L R_{d}^{2} + C_{c}^{2} R_{d}^{4} - 2 C_{c} L R_{d}^{2} + L^{2}} + C_{c} L R_{d}^{2} - L^{2} - L \\sqrt{- 4 C_{0} L R_{d}^{2} + C_{c}^{2} R_{d}^{4} - 2 C_{c} L R_{d}^{2} + L^{2}}\\right)}$$"
      ],
      "text/plain": [
       "      ⎛                                          _____________________________\n",
       "      ⎜    2    2               2               ╱             2      2    4   \n",
       "L⋅R_d⋅⎝2⋅C₀ ⋅R_d  + 3⋅C₀⋅C_c⋅R_d  - C₀⋅L - C₀⋅╲╱  - 4⋅C₀⋅L⋅R_d  + C_c ⋅R_d  - \n",
       "──────────────────────────────────────────────────────────────────────────────\n",
       "        ⎛                                       ______________________________\n",
       "        ⎜          4             2         2   ╱             2      2    4    \n",
       "    C_c⋅⎝C₀⋅C_c⋅R_d  + 3⋅C₀⋅L⋅R_d  + C₀⋅R_d ⋅╲╱  - 4⋅C₀⋅L⋅R_d  + C_c ⋅R_d  - 2\n",
       "\n",
       "__________________                              ______________________________\n",
       "           2    2       2    2                 ╱             2      2    4    \n",
       "2⋅C_c⋅L⋅R_d  + L   + C_c ⋅R_d  - C_c⋅L - C_c⋅╲╱  - 4⋅C₀⋅L⋅R_d  + C_c ⋅R_d  - 2\n",
       "──────────────────────────────────────────────────────────────────────────────\n",
       "_________________                          ___________________________________\n",
       "          2    2             2    2       ╱             2      2    4         \n",
       "⋅C_c⋅L⋅R_d  + L   + C_c⋅L⋅R_d  - L  - L⋅╲╱  - 4⋅C₀⋅L⋅R_d  + C_c ⋅R_d  - 2⋅C_c⋅\n",
       "\n",
       "_________________⎞\n",
       "          2    2 ⎟\n",
       "⋅C_c⋅L⋅R_d  + L  ⎠\n",
       "──────────────────\n",
       "____________⎞     \n",
       "     2    2 ⎟     \n",
       "L⋅R_d  + L  ⎠     "
      ]
     },
     "execution_count": 407,
     "metadata": {},
     "output_type": "execute_result"
    }
   ],
   "source": [
    "mycirc.Reff"
   ]
  },
  {
   "cell_type": "code",
   "execution_count": 6,
   "metadata": {},
   "outputs": [],
   "source": [
    "args={mycirc.args['L']:405e-9, mycirc.args['C_0']:480e-15, mycirc.args['R_d']:800e3}\n",
    "gamma=mycirc.get_Gamma(args)"
   ]
  },
  {
   "cell_type": "code",
   "execution_count": 7,
   "metadata": {},
   "outputs": [
    {
     "data": {
      "text/plain": [
       "<function _lambdifygenerated(C_c, w)>"
      ]
     },
     "execution_count": 7,
     "metadata": {},
     "output_type": "execute_result"
    }
   ],
   "source": [
    "gamma"
   ]
  },
  {
   "cell_type": "code",
   "execution_count": 15,
   "metadata": {},
   "outputs": [
    {
     "data": {
      "text/plain": [
       "Text(0, 0.5, '$f$ (MHz)')"
      ]
     },
     "execution_count": 15,
     "metadata": {},
     "output_type": "execute_result"
    },
    {
     "data": {
      "image/png": "[encoded data removed]",
      "text/plain": [
       "<Figure size 432x288 with 1 Axes>"
      ]
     },
     "metadata": {
      "needs_background": "light"
     },
     "output_type": "display_data"
    }
   ],
   "source": [
    "plt.figure()\n",
    "f=np.linspace(300e6, 370e6, 1000)\n",
    "plt.plot(f*1e-6, np.absolute(gamma(77e-15, 2*np.pi*f)))\n",
    "plt.xlabel('$|\\Gamma$|')\n",
    "plt.ylabel('$f$ (MHz)')"
   ]
  },
  {
   "cell_type": "code",
   "execution_count": null,
   "metadata": {},
   "outputs": [],
   "source": []
  },
  {
   "cell_type": "code",
   "execution_count": null,
   "metadata": {},
   "outputs": [],
   "source": []
  },
  {
   "cell_type": "markdown",
   "metadata": {},
   "source": [
    "## dG vs Cc \n",
    "* this mostly shows how I can match using Cc, separate of R and C0"
   ]
  },
  {
   "cell_type": "code",
   "execution_count": 13,
   "metadata": {},
   "outputs": [],
   "source": [
    "f=np.linspace(200e6, 400e6, 1000)\n",
    "cc=np.linspace(1, 500, 501)*1e-15"
   ]
  },
  {
   "cell_type": "code",
   "execution_count": 10,
   "metadata": {},
   "outputs": [],
   "source": [
    "data=gamma(cc[:,np.newaxis], 2*np.pi*f)\n",
    "matching=np.min(np.absolute(data), axis=1)\n",
    "index=np.argmin(np.absolute(data), axis=1)\n"
   ]
  },
  {
   "cell_type": "code",
   "execution_count": 11,
   "metadata": {},
   "outputs": [
    {
     "data": {
      "image/png": "[encoded data removed]",
      "text/latex": [
       "$$\\left ( 501, \\quad 1000\\right )$$"
      ],
      "text/plain": [
       "(501, 1000)"
      ]
     },
     "execution_count": 11,
     "metadata": {},
     "output_type": "execute_result"
    }
   ],
   "source": [
    "data.shape"
   ]
  },
  {
   "cell_type": "code",
   "execution_count": 14,
   "metadata": {},
   "outputs": [
    {
     "data": {
      "text/plain": [
       "[<matplotlib.lines.Line2D at 0x10ff810b8>,\n",
       " <matplotlib.lines.Line2D at 0x11292ba90>,\n",
       " <matplotlib.lines.Line2D at 0x11292bbe0>,\n",
       " <matplotlib.lines.Line2D at 0x11292bd30>,\n",
       " <matplotlib.lines.Line2D at 0x11292be80>,\n",
       " <matplotlib.lines.Line2D at 0x11292bfd0>,\n",
       " <matplotlib.lines.Line2D at 0x11294d160>,\n",
       " <matplotlib.lines.Line2D at 0x11294d2b0>,\n",
       " <matplotlib.lines.Line2D at 0x11294d400>,\n",
       " <matplotlib.lines.Line2D at 0x1128f97f0>,\n",
       " <matplotlib.lines.Line2D at 0x11294d668>]"
      ]
     },
     "execution_count": 14,
     "metadata": {},
     "output_type": "execute_result"
    },
    {
     "data": {
      "image/png": "[encoded data removed]",
      "text/plain": [
       "<Figure size 432x288 with 1 Axes>"
      ]
     },
     "metadata": {
      "needs_background": "light"
     },
     "output_type": "display_data"
    }
   ],
   "source": [
    "plt.figure()\n",
    "plt.plot(f*1e-6, np.absolute(gamma(77e-15, 2*np.pi*f)))\n",
    "plt.ylabel('$|\\Gamma|$')\n",
    "plt.xlabel('$f$ (MHz)')\n",
    "plt.plot(f*1e-6, np.absolute(data)[::50,:].transpose())\n",
    "\n"
   ]
  },
  {
   "cell_type": "code",
   "execution_count": null,
   "metadata": {},
   "outputs": [],
   "source": []
  },
  {
   "cell_type": "code",
   "execution_count": 58,
   "metadata": {},
   "outputs": [],
   "source": [
    "res=mycirc.get_wres(mycirc.wres[1], args) # need to choose correct resonance solution"
   ]
  },
  {
   "cell_type": "code",
   "execution_count": 60,
   "metadata": {},
   "outputs": [
    {
     "data": {
      "text/plain": [
       "[<matplotlib.lines.Line2D at 0x818281b38>]"
      ]
     },
     "execution_count": 60,
     "metadata": {},
     "output_type": "execute_result"
    },
    {
     "data": {
      "image/png": "[encoded data removed]",
      "text/plain": [
       "<Figure size 432x288 with 1 Axes>"
      ]
     },
     "metadata": {
      "needs_background": "light"
     },
     "output_type": "display_data"
    }
   ],
   "source": [
    "plt.figure()\n",
    "plt.xlabel('$C_c$ (pF)')\n",
    "plt.ylabel('$f_{res}$ (MHz)')\n",
    "plt.plot(cc*1e12,res(cc)/2/np.pi*1e-6) # gives same results as finding minimum"
   ]
  },
  {
   "cell_type": "code",
   "execution_count": null,
   "metadata": {},
   "outputs": [],
   "source": []
  },
  {
   "cell_type": "code",
   "execution_count": null,
   "metadata": {},
   "outputs": [],
   "source": []
  },
  {
   "cell_type": "code",
   "execution_count": 62,
   "metadata": {},
   "outputs": [
    {
     "data": {
      "text/plain": [
       "[<matplotlib.lines.Line2D at 0x81b07ba90>]"
      ]
     },
     "execution_count": 62,
     "metadata": {},
     "output_type": "execute_result"
    },
    {
     "data": {
      "image/png": "[encoded data removed]",
      "text/plain": [
       "<Figure size 432x288 with 1 Axes>"
      ]
     },
     "metadata": {
      "needs_background": "light"
     },
     "output_type": "display_data"
    }
   ],
   "source": [
    "plt.figure()\n",
    "plt.xlabel('$C_c$ (pF)')\n",
    "plt.ylabel('$\\Gamma_{min}$')\n",
    "plt.plot(cc*1e12, np.absolute(Z(cc, res(cc)))) # matches Fig4b "
   ]
  },
  {
   "cell_type": "code",
   "execution_count": 63,
   "metadata": {},
   "outputs": [],
   "source": [
    "dG=mycirc.get_DeltaGamma(mycirc.args['C_0'], args)"
   ]
  },
  {
   "cell_type": "code",
   "execution_count": 64,
   "metadata": {},
   "outputs": [
    {
     "data": {
      "text/plain": [
       "<function _lambdifygenerated(C_c, w)>"
      ]
     },
     "execution_count": 64,
     "metadata": {},
     "output_type": "execute_result"
    }
   ],
   "source": [
    "dG"
   ]
  },
  {
   "cell_type": "code",
   "execution_count": 65,
   "metadata": {},
   "outputs": [
    {
     "data": {
      "text/plain": [
       "[<matplotlib.lines.Line2D at 0x81a9beda0>]"
      ]
     },
     "execution_count": 65,
     "metadata": {},
     "output_type": "execute_result"
    },
    {
     "data": {
      "image/png": "[encoded data removed]",
      "text/plain": [
       "<Figure size 432x288 with 1 Axes>"
      ]
     },
     "metadata": {
      "needs_background": "light"
     },
     "output_type": "display_data"
    }
   ],
   "source": [
    "plt.figure()\n",
    "plt.xlabel('$C_c$ (pF)')\n",
    "plt.ylabel('$\\partial\\Gamma/\\partial C_0$')\n",
    "plt.plot(cc, np.absolute(dG(cc, res(cc))))  # matches Fig4b"
   ]
  },
  {
   "cell_type": "code",
   "execution_count": null,
   "metadata": {},
   "outputs": [],
   "source": []
  },
  {
   "cell_type": "code",
   "execution_count": null,
   "metadata": {},
   "outputs": [],
   "source": []
  },
  {
   "cell_type": "markdown",
   "metadata": {},
   "source": [
    "## dG vs Cc and C0 "
   ]
  },
  {
   "cell_type": "code",
   "execution_count": 67,
   "metadata": {},
   "outputs": [],
   "source": [
    "c0=np.linspace(0.1, 0.9, 100)*1e-12\n",
    "cc=np.linspace(1, 500, 200)*1e-15"
   ]
  },
  {
   "cell_type": "code",
   "execution_count": 68,
   "metadata": {},
   "outputs": [],
   "source": [
    "args={mycirc.args['L']:405e-9, mycirc.args['R_d']:800e3}\n",
    "res=mycirc.get_wres(mycirc.wres[1], args)\n",
    "dG=mycirc.get_DeltaGamma(mycirc.args['C_0'], args)"
   ]
  },
  {
   "cell_type": "code",
   "execution_count": 69,
   "metadata": {},
   "outputs": [
    {
     "data": {
      "text/plain": [
       "<function _lambdifygenerated(C_c, C_0)>"
      ]
     },
     "execution_count": 69,
     "metadata": {},
     "output_type": "execute_result"
    }
   ],
   "source": [
    "res"
   ]
  },
  {
   "cell_type": "code",
   "execution_count": 70,
   "metadata": {},
   "outputs": [
    {
     "data": {
      "image/png": "[encoded data removed]",
      "text/latex": [
       "$$\\left ( 200, \\quad 100\\right )$$"
      ],
      "text/plain": [
       "(200, 100)"
      ]
     },
     "execution_count": 70,
     "metadata": {},
     "output_type": "execute_result"
    }
   ],
   "source": [
    "res(c0, cc[:,np.newaxis]).shape"
   ]
  },
  {
   "cell_type": "code",
   "execution_count": 71,
   "metadata": {},
   "outputs": [
    {
     "data": {
      "text/plain": [
       "<function _lambdifygenerated(C_c, w, C_0)>"
      ]
     },
     "execution_count": 71,
     "metadata": {},
     "output_type": "execute_result"
    }
   ],
   "source": [
    "dG"
   ]
  },
  {
   "cell_type": "code",
   "execution_count": 75,
   "metadata": {},
   "outputs": [],
   "source": [
    "data=dG(cc[:,np.newaxis], res(c0, cc[:,np.newaxis]), c0)"
   ]
  },
  {
   "cell_type": "code",
   "execution_count": 76,
   "metadata": {},
   "outputs": [
    {
     "data": {
      "image/png": "[encoded data removed]",
      "text/latex": [
       "$$\\left ( 200, \\quad 100\\right )$$"
      ],
      "text/plain": [
       "(200, 100)"
      ]
     },
     "execution_count": 76,
     "metadata": {},
     "output_type": "execute_result"
    }
   ],
   "source": [
    "data.shape"
   ]
  },
  {
   "cell_type": "code",
   "execution_count": null,
   "metadata": {},
   "outputs": [],
   "source": []
  },
  {
   "cell_type": "code",
   "execution_count": 80,
   "metadata": {},
   "outputs": [
    {
     "data": {
      "text/plain": [
       "[<matplotlib.lines.Line2D at 0x81ba8a748>]"
      ]
     },
     "execution_count": 80,
     "metadata": {},
     "output_type": "execute_result"
    },
    {
     "data": {
      "image/png": "[encoded data removed]",
      "text/plain": [
       "<Figure size 432x288 with 1 Axes>"
      ]
     },
     "metadata": {
      "needs_background": "light"
     },
     "output_type": "display_data"
    }
   ],
   "source": [
    "plt.figure()\n",
    "plt.xlabel('$C_0$ (pF)')\n",
    "plt.ylabel('max $\\partial\\Gamma/\\partial C_0$')\n",
    "plt.plot(c0*1e12, np.max(np.absolute(data), axis=0)) # looks same as inset in Fig4d"
   ]
  },
  {
   "cell_type": "code",
   "execution_count": 82,
   "metadata": {},
   "outputs": [
    {
     "data": {
      "text/plain": [
       "array([ 0.1969697 ,  0.47979798,  0.79494949])"
      ]
     },
     "execution_count": 82,
     "metadata": {},
     "output_type": "execute_result"
    }
   ],
   "source": [
    "c0[[12, 47, 86]]*1e12 # select some values of C0"
   ]
  },
  {
   "cell_type": "code",
   "execution_count": 83,
   "metadata": {},
   "outputs": [
    {
     "data": {
      "text/plain": [
       "[<matplotlib.lines.Line2D at 0x81b66ef60>,\n",
       " <matplotlib.lines.Line2D at 0x81b66edd8>,\n",
       " <matplotlib.lines.Line2D at 0x81b66ec88>]"
      ]
     },
     "execution_count": 83,
     "metadata": {},
     "output_type": "execute_result"
    },
    {
     "data": {
      "image/png": "[encoded data removed]",
      "text/plain": [
       "<Figure size 432x288 with 1 Axes>"
      ]
     },
     "metadata": {
      "needs_background": "light"
     },
     "output_type": "display_data"
    }
   ],
   "source": [
    "plt.figure()\n",
    "plt.xlabel('$C_c$ (pF)')\n",
    "plt.ylabel('$\\partial\\Gamma/\\partial C_0$')\n",
    "plt.plot(cc*1e12, np.absolute(data)[:,[12, 47, 86]]) "
   ]
  },
  {
   "cell_type": "code",
   "execution_count": 84,
   "metadata": {},
   "outputs": [],
   "source": []
  },
  {
   "cell_type": "code",
   "execution_count": null,
   "metadata": {},
   "outputs": [],
   "source": []
  },
  {
   "cell_type": "code",
   "execution_count": null,
   "metadata": {},
   "outputs": [],
   "source": []
  },
  {
   "cell_type": "markdown",
   "metadata": {},
   "source": [
    "## dG vs Cc and Rd "
   ]
  },
  {
   "cell_type": "code",
   "execution_count": 85,
   "metadata": {},
   "outputs": [],
   "source": [
    "rd=np.linspace(0.01, 2, 100)*1e6\n",
    "cc=np.linspace(1, 500, 200)*1e-15"
   ]
  },
  {
   "cell_type": "code",
   "execution_count": 86,
   "metadata": {},
   "outputs": [],
   "source": [
    "args={mycirc.args['L']:405e-9, mycirc.args['C_0']:480e-15}\n",
    "res=mycirc.get_wres(mycirc.wres[1], args)\n",
    "dG=mycirc.get_DeltaGamma(mycirc.args['C_0'], args)"
   ]
  },
  {
   "cell_type": "code",
   "execution_count": 87,
   "metadata": {},
   "outputs": [
    {
     "data": {
      "text/plain": [
       "<function _lambdifygenerated(C_c, R_d)>"
      ]
     },
     "execution_count": 87,
     "metadata": {},
     "output_type": "execute_result"
    }
   ],
   "source": [
    "res"
   ]
  },
  {
   "cell_type": "code",
   "execution_count": 88,
   "metadata": {},
   "outputs": [
    {
     "data": {
      "image/png": "[encoded data removed]",
      "text/latex": [
       "$$\\left ( 200, \\quad 100\\right )$$"
      ],
      "text/plain": [
       "(200, 100)"
      ]
     },
     "execution_count": 88,
     "metadata": {},
     "output_type": "execute_result"
    }
   ],
   "source": [
    "res(cc[:,np.newaxis], rd).shape"
   ]
  },
  {
   "cell_type": "code",
   "execution_count": 89,
   "metadata": {},
   "outputs": [
    {
     "data": {
      "text/plain": [
       "<function _lambdifygenerated(R_d, C_c, w)>"
      ]
     },
     "execution_count": 89,
     "metadata": {},
     "output_type": "execute_result"
    }
   ],
   "source": [
    "dG"
   ]
  },
  {
   "cell_type": "code",
   "execution_count": 90,
   "metadata": {},
   "outputs": [],
   "source": [
    "data=dG(rd, cc[:,np.newaxis], res(cc[:,np.newaxis], rd))"
   ]
  },
  {
   "cell_type": "code",
   "execution_count": 91,
   "metadata": {},
   "outputs": [
    {
     "data": {
      "image/png": "[encoded data removed]",
      "text/latex": [
       "$$\\left ( 200, \\quad 100\\right )$$"
      ],
      "text/plain": [
       "(200, 100)"
      ]
     },
     "execution_count": 91,
     "metadata": {},
     "output_type": "execute_result"
    }
   ],
   "source": [
    "data.shape"
   ]
  },
  {
   "cell_type": "code",
   "execution_count": null,
   "metadata": {},
   "outputs": [],
   "source": []
  },
  {
   "cell_type": "code",
   "execution_count": 93,
   "metadata": {},
   "outputs": [
    {
     "data": {
      "text/plain": [
       "[<matplotlib.lines.Line2D at 0x81a450898>]"
      ]
     },
     "execution_count": 93,
     "metadata": {},
     "output_type": "execute_result"
    },
    {
     "data": {
      "image/png": "[encoded data removed]",
      "text/plain": [
       "<Figure size 432x288 with 1 Axes>"
      ]
     },
     "metadata": {
      "needs_background": "light"
     },
     "output_type": "display_data"
    }
   ],
   "source": [
    "plt.figure()\n",
    "plt.xlabel('$R_d$ (MOhms)')\n",
    "plt.ylabel('max $\\partial\\Gamma/\\partial C_0$')\n",
    "plt.plot(rd*1e-6, np.max(np.absolute(data), axis=0)) "
   ]
  },
  {
   "cell_type": "code",
   "execution_count": null,
   "metadata": {},
   "outputs": [],
   "source": []
  },
  {
   "cell_type": "code",
   "execution_count": 96,
   "metadata": {},
   "outputs": [
    {
     "data": {
      "text/plain": [
       "array([ 0.2110101,  0.8140404,  2.       ])"
      ]
     },
     "execution_count": 96,
     "metadata": {},
     "output_type": "execute_result"
    }
   ],
   "source": [
    "rd[[10, 40, 99]]*1e-6 # select values sof Rd"
   ]
  },
  {
   "cell_type": "code",
   "execution_count": 97,
   "metadata": {},
   "outputs": [
    {
     "data": {
      "text/plain": [
       "[<matplotlib.lines.Line2D at 0x81bdabe48>,\n",
       " <matplotlib.lines.Line2D at 0x81bdabf98>,\n",
       " <matplotlib.lines.Line2D at 0x81bda3128>]"
      ]
     },
     "execution_count": 97,
     "metadata": {},
     "output_type": "execute_result"
    },
    {
     "data": {
      "image/png": "[encoded data removed]",
      "text/plain": [
       "<Figure size 432x288 with 1 Axes>"
      ]
     },
     "metadata": {
      "needs_background": "light"
     },
     "output_type": "display_data"
    }
   ],
   "source": [
    "plt.figure()\n",
    "plt.xlabel('$C_c$ (pF)')\n",
    "plt.ylabel('$\\partial\\Gamma/\\partial C_0$')\n",
    "plt.plot(cc*1e12, np.absolute(data)[:,[10, 40, 99]])  "
   ]
  }
 ],
 "metadata": {
  "kernelspec": {
   "display_name": "qcodes",
   "language": "python",
   "name": "qcodes"
  },
  "language_info": {
   "codemirror_mode": {
    "name": "ipython",
    "version": 3
   },
   "file_extension": ".py",
   "mimetype": "text/x-python",
   "name": "python",
   "nbconvert_exporter": "python",
   "pygments_lexer": "ipython3",
   "version": "3.6.8"
  }
 },
 "nbformat": 4,
 "nbformat_minor": 2
}
