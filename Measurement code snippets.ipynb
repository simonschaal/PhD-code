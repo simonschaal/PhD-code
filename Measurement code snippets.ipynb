{
 "cells": [
  {
   "cell_type": "code",
   "execution_count": 1,
   "metadata": {},
   "outputs": [
    {
     "name": "stderr",
     "output_type": "stream",
     "text": [
      "/Users/sschaal/anaconda3/envs/qcodes/lib/python3.6/site-packages/qdev_wrappers/logger.py:16: UserWarning: The logger.py of qdev-wrappers is deprecated and will be removed soon. Please use the logger of QCoDeS instead.\n",
      "  warnings.warn('The logger.py of qdev-wrappers is deprecated and will be '\n",
      "/Users/sschaal/anaconda3/envs/qcodes/lib/python3.6/site-packages/qdev_wrappers/station_configurator.py:21: UserWarning: ruamel yaml not found station configurator is falling back to pyyaml. It's highly recommended to install ruamel.yaml. This fixes issues with scientific notation and duplicate instruments in the YAML file\n",
      "  warnings.warn(\"ruamel yaml not found station configurator is falling back to pyyaml. \"\n"
     ]
    }
   ],
   "source": [
    "import qcodes\n",
    "from qdev_wrappers.station_configurator import StationConfigurator\n",
    "\n",
    "from qdev_wrappers.sweep_functions import do1d, do2d, do0d"
   ]
  },
  {
   "cell_type": "code",
   "execution_count": null,
   "metadata": {},
   "outputs": [],
   "source": []
  },
  {
   "cell_type": "markdown",
   "metadata": {},
   "source": [
    "## QCodes monitor\n",
    "The QCodes monitor provides an overview over selected parameters and their current values in a separate webpage. The monitor runs in a separate python shell and the snippet below shows how to run a separate shell in the background in a jupyter notebook cell using the \\%\\%script notebook magic command. Once an instance of the monitor class is created, where parameters that should be monitored are passed within the constructor, the monitor web-page should be filled with current parameter values."
   ]
  },
  {
   "cell_type": "code",
   "execution_count": null,
   "metadata": {},
   "outputs": [],
   "source": [
    "%%script cmd --bg\n",
    "python -m qcodes.monitor.monitor"
   ]
  },
  {
   "cell_type": "code",
   "execution_count": null,
   "metadata": {},
   "outputs": [],
   "source": [
    "monitor = qcodes.Monitor(param1, param2, param3, ...)"
   ]
  },
  {
   "cell_type": "code",
   "execution_count": null,
   "metadata": {},
   "outputs": [],
   "source": []
  },
  {
   "cell_type": "markdown",
   "metadata": {},
   "source": [
    "## Stepping\n",
    "Large jumps in voltage might be harmful for a nano-scale device. The step and inter\\_delay attribute of a parameter allows to define a maximum step and an effective ramp rate. "
   ]
  },
  {
   "cell_type": "code",
   "execution_count": null,
   "metadata": {},
   "outputs": [],
   "source": [
    "vsd.step = 0.001\n",
    "vsd.inter_delay = 0.3"
   ]
  },
  {
   "cell_type": "code",
   "execution_count": null,
   "metadata": {},
   "outputs": [],
   "source": []
  },
  {
   "cell_type": "markdown",
   "metadata": {},
   "source": [
    "## Station configurator\n",
    "When using the station-configurator of the QDev-wrappers, both parameter monitoring and stepping can be defined within the yaml file. Individual setting of the attributes and creating an instance of the monitor class is unnecessary."
   ]
  },
  {
   "cell_type": "code",
   "execution_count": null,
   "metadata": {},
   "outputs": [],
   "source": [
    "instruments:\n",
    "    VNA:\n",
    "        driver: qcodes.instrument_drivers.Keysight.Keysight_E5071C\n",
    "        type: Keysight_E5071C\n",
    "        address: TCPIP0::169.254.71.72::inst0::INSTR\n",
    "        enable_forced_reconnect: true\n",
    "        parameters:\n",
    "            timeout: {initial_value: 1000}\n",
    "            start:  {initial_value: 500000000, monitor: true}\n",
    "            stop:  {initial_value: 900000000, monitor: true}\n",
    "    keith:\n",
    "        driver: qcodes.instrument_drivers.tektronix.Keithley_2400 \n",
    "        type: Keithley_2400 \n",
    "        init:\n",
    "            address: GPIB0::26::INSTR\n",
    "            terminator: \"\\n\"\n",
    "        enable_forced_reconnect: true\n",
    "        parameters:\n",
    "            volt:\n",
    "                monitor: true\n",
    "                step: 0.1\n",
    "                inter_delay: 0.3"
   ]
  },
  {
   "cell_type": "markdown",
   "metadata": {},
   "source": [
    "Instruments can then be loaded via the station-configurator and simple measurements can be performed using the doNd convenience functions."
   ]
  },
  {
   "cell_type": "code",
   "execution_count": null,
   "metadata": {},
   "outputs": [],
   "source": [
    "STATION = qc.Station()\n",
    "SC = StationConfigurator('setup.yaml', station = STATION)\n",
    "\n",
    "VNA = SC.load_VNA()\n",
    "plot, data = do1d(VNA.power, -40, -10, 31, 0.001, VNA.trace)"
   ]
  },
  {
   "cell_type": "code",
   "execution_count": null,
   "metadata": {},
   "outputs": [],
   "source": []
  },
  {
   "cell_type": "markdown",
   "metadata": {},
   "source": [
    "## Custom parameter\n",
    "Often it can be useful to define a custom virtual parameter as a function of physical parameters. This can be easily done using the qcodes.Parameter class as shown at the example of a symmetric source-drain bias voltage below. To every parameter a validator can be assigned that allows only specific input values. \n"
   ]
  },
  {
   "cell_type": "code",
   "execution_count": null,
   "metadata": {},
   "outputs": [],
   "source": [
    "def set_Vsd(volt):\n",
    "source.offset(volt/2)\n",
    "drain.offset(-volt/2)\n",
    "\n",
    "vsd = qcodes.Parameter('Vsd', label='Vsd', unit='V', set_cmd=set_Vsd,\n",
    "                       vals=qcodes.utils.validators.Numbers(-50e-3, 50e-3))\n",
    "\n",
    "vsd(1e-3)"
   ]
  },
  {
   "cell_type": "code",
   "execution_count": null,
   "metadata": {},
   "outputs": [],
   "source": []
  },
  {
   "cell_type": "markdown",
   "metadata": {},
   "source": [
    "## Widgets\n",
    "Widgets within a jupyter notebook provide a simple way to manually change parameters by entering numbers into text field or using sliders. Below an example for creating a floating number text widget to manually tune the pump signal frequency of a Josephson parametric amplifier is shown. More widgets can be found at:\n",
    "https://ipywidgets.readthedocs.io/en/latest/examples/Widget%20List.html.\n"
   ]
  },
  {
   "cell_type": "code",
   "execution_count": null,
   "metadata": {},
   "outputs": [],
   "source": [
    "import ipywidgets as widgets\n",
    "\n",
    "pumpfreq=widgets.FloatText(\n",
    "    value=pump.frequency(),\n",
    "    description='Frequency: ',\n",
    "    min=500e6,\n",
    "    max=800e6,\n",
    "    step=0.1e6\n",
    ")"
   ]
  },
  {
   "cell_type": "code",
   "execution_count": null,
   "metadata": {},
   "outputs": [],
   "source": [
    "widgets.interact(pump.frequency, value=pumpfreq)"
   ]
  },
  {
   "cell_type": "code",
   "execution_count": null,
   "metadata": {},
   "outputs": [],
   "source": []
  },
  {
   "cell_type": "markdown",
   "metadata": {},
   "source": [
    "## Video mode\n",
    "While matplotlib is a great python library to produce production-quality graphs, generating and updating graphs is slow. Pyqtgraph is a scientific plotting graphics library that is embedded within the Qt framework. Genertaing graphs is not as simple as using matplotlib but pyqtgraphs can be embedded into any Qt application allowing to create graphical interfaces for measurements with very fast rendering. QCodes offers a QtPlot class for generation of simple pyqtgraphs based on qcodes datasets. Below code to realise video-mode measurements using the QtPlot class is presented at the example of fast reflectometry measurements. The code can be adapted to any other two-dimensional measurement and could be extended to realise a complete graphical measurement interface.\n",
    "\n",
    "To begin, the fast reflectometry measurement is set-up and a QtPlot is generated from an initial reflectometry measurement."
   ]
  },
  {
   "cell_type": "code",
   "execution_count": null,
   "metadata": {},
   "outputs": [],
   "source": [
    "# Uses station-configurator\n",
    "alazar=SC.load_Alazar()\n",
    "awg=SC.load_AWG()\n",
    "reflectometry=SC.load_AlazarFastReflectometry()\n",
    "\n",
    "reflectometry.sample_rate(2e6)\n",
    "# amplifier is already AC coupled\n",
    "reflectometry.input_coupling('DC') \n",
    "reflectometry.input_range(0.8)\n",
    "reflectometry.impedance(1000000)\n",
    "\n",
    "# setup AWG voltage space for fast and slow ramp\n",
    "reflectometry.y_start(0.53)\n",
    "reflectometry.y_end(0.54)\n",
    "reflectometry.y_npts(256)\n",
    "reflectometry.x_start(-6e-3)\n",
    "reflectometry.x_end(6e-3)\n",
    "reflectometry.x_npts(256)\n",
    "\n",
    "# enter I and Q DC offset for accurate calculation of phase in AC coupling mode\n",
    "reflectometry.I_DC(6.4)\n",
    "reflectometry.Q_DC(5.3)\n",
    "\n",
    "reflectometry.awg=awg\n",
    "# ramp to setpoint for x and y, and calculate frequency from sample rate and npts \n",
    "reflectometry.setup_AWG()\n",
    "reflectometry.acquisition.setup_sweep(buffers_per_acquisition=10) # 10 averages\n",
    "\n",
    "# create plot from one measurement\n",
    "# alternatively use:\n",
    "# plot, dataset = do0d(reflectometry.acquisition)\n",
    "# which will create additional graphs for mag and phase\n",
    "plot = qcodes.QtPlot()\n",
    "dataset=qcodes.Measure(reflectometry.acquisition)\n",
    "plot.add(dataset.Alazar_I)\n",
    "plot.add(dataset.Alazar_Q)"
   ]
  },
  {
   "cell_type": "markdown",
   "metadata": {},
   "source": [
    "Next, within a while-loop new measurement data is acquired and the selected graphs are updated. A waiting time between individual updates can be defined. To stop live updates the loop needs to be interrupted. "
   ]
  },
  {
   "cell_type": "code",
   "execution_count": null,
   "metadata": {},
   "outputs": [],
   "source": [
    "import time\n",
    "wait = 0 # seconds\n",
    "\n",
    "# select I and Q array to plot, choose 2,3 for mag and phase \n",
    "selection=[0,1]\n",
    "\n",
    "# loop until interrupted\n",
    "while True: \n",
    "    # returns tuple of I,Q,mag,phase data acquired in less than a second\n",
    "    # data is not saved on the harddrive\n",
    "    data=reflectometry.acquisition()\n",
    "    # update graphs\n",
    "    for i in range(len(selection)):\n",
    "        po=plot.traces[i]['plot_object']\n",
    "        po['image'].setImage(\n",
    "          data[selection[i]].transpose(), \n",
    "          levels=po['hist'].getLevels()\n",
    "        )\n",
    "    time.sleep(wait)"
   ]
  }
 ],
 "metadata": {
  "kernelspec": {
   "display_name": "Python 3",
   "language": "python",
   "name": "python3"
  },
  "language_info": {
   "codemirror_mode": {
    "name": "ipython",
    "version": 3
   },
   "file_extension": ".py",
   "mimetype": "text/x-python",
   "name": "python",
   "nbconvert_exporter": "python",
   "pygments_lexer": "ipython3",
   "version": "3.7.1"
  }
 },
 "nbformat": 4,
 "nbformat_minor": 2
}
